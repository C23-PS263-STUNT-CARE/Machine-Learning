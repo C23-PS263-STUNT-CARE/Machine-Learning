{
  "nbformat": 4,
  "nbformat_minor": 0,
  "metadata": {
    "colab": {
      "provenance": [],
      "gpuType": "T4"
    },
    "kernelspec": {
      "name": "python3",
      "display_name": "Python 3"
    },
    "language_info": {
      "name": "python"
    },
    "accelerator": "GPU",
    "gpuClass": "standard"
  },
  "cells": [
    {
      "cell_type": "markdown",
      "source": [
        "## **Import Library and Dataset**"
      ],
      "metadata": {
        "id": "EwVSr7SxGCKx"
      }
    },
    {
      "cell_type": "code",
      "execution_count": 1,
      "metadata": {
        "id": "WtI5BUEJNpVI"
      },
      "outputs": [],
      "source": [
        "#Import Library\n",
        "import numpy as np\n",
        "import tensorflow as tf\n",
        "import pandas as pd\n",
        "import matplotlib.pyplot as plt\n",
        "from tensorflow import keras\n",
        "from sklearn.model_selection import train_test_split\n",
        "from sklearn.metrics import confusion_matrix\n",
        "from sklearn.metrics import precision_score, recall_score, f1_score\n",
        "from sklearn.metrics import classification_report\n",
        "from sklearn.preprocessing import MinMaxScaler\n",
        "import seaborn as sns\n",
        "import joblib"
      ]
    },
    {
      "cell_type": "code",
      "source": [
        "from google.colab import drive\n",
        "drive.mount('/content/drive')"
      ],
      "metadata": {
        "colab": {
          "base_uri": "https://localhost:8080/"
        },
        "id": "hgfou0OoXer5",
        "outputId": "66f93542-9c02-487a-ef73-04d17f04a514"
      },
      "execution_count": 2,
      "outputs": [
        {
          "output_type": "stream",
          "name": "stdout",
          "text": [
            "Drive already mounted at /content/drive; to attempt to forcibly remount, call drive.mount(\"/content/drive\", force_remount=True).\n"
          ]
        }
      ]
    },
    {
      "cell_type": "markdown",
      "source": [
        "## **Data Preprocessing**"
      ],
      "metadata": {
        "id": "0tuSJ3N5KC9F"
      }
    },
    {
      "cell_type": "code",
      "source": [
        "# Read the data in the XLSX file using pandas\n",
        "file_path = '/content/drive/Shareddrives/Product_Base_Capstone/Machine_Learning/Dataset/Stunting Dataset.xlsx'\n",
        "df = pd.read_excel(file_path)"
      ],
      "metadata": {
        "id": "Rb-HGLsfolqW"
      },
      "execution_count": 3,
      "outputs": []
    },
    {
      "cell_type": "code",
      "source": [
        "#Display Information of dataset\n",
        "df"
      ],
      "metadata": {
        "colab": {
          "base_uri": "https://localhost:8080/",
          "height": 423
        },
        "id": "rsEVKTnsJ1jZ",
        "outputId": "3ccb7069-a5f2-43ff-b188-591c86ba34e1"
      },
      "execution_count": 4,
      "outputs": [
        {
          "output_type": "execute_result",
          "data": {
            "text/plain": [
              "     Sex  Age  Birth Weight  Birth Length  Body Weight  Body Length  \\\n",
              "0      F   56           2.9            50         11.0         90.0   \n",
              "1      F   20           3.3            49         11.1         80.5   \n",
              "2      M    4           2.8            48          6.5         63.0   \n",
              "3      F   14           2.0            49          7.0         71.0   \n",
              "4      M   32           3.2            49         11.0         88.7   \n",
              "...   ..  ...           ...           ...          ...          ...   \n",
              "6495   M   53           2.9            49         15.0         96.0   \n",
              "6496   M    9           2.9            50          7.3         62.0   \n",
              "6497   F   20           1.8            48          7.3         73.0   \n",
              "6498   M   11           2.9            49          7.7         66.0   \n",
              "6499   F   14           2.9            49          6.5         66.0   \n",
              "\n",
              "     ASI Eksklusif Stunting  \n",
              "0              Yes       No  \n",
              "1               No       No  \n",
              "2               No       No  \n",
              "3              Yes       No  \n",
              "4              Yes       No  \n",
              "...            ...      ...  \n",
              "6495            No      Yes  \n",
              "6496            No      Yes  \n",
              "6497           Yes      Yes  \n",
              "6498            No      Yes  \n",
              "6499            No      Yes  \n",
              "\n",
              "[6500 rows x 8 columns]"
            ],
            "text/html": [
              "\n",
              "  <div id=\"df-517edad8-7e53-4bd0-8822-6b54d52a8b0a\">\n",
              "    <div class=\"colab-df-container\">\n",
              "      <div>\n",
              "<style scoped>\n",
              "    .dataframe tbody tr th:only-of-type {\n",
              "        vertical-align: middle;\n",
              "    }\n",
              "\n",
              "    .dataframe tbody tr th {\n",
              "        vertical-align: top;\n",
              "    }\n",
              "\n",
              "    .dataframe thead th {\n",
              "        text-align: right;\n",
              "    }\n",
              "</style>\n",
              "<table border=\"1\" class=\"dataframe\">\n",
              "  <thead>\n",
              "    <tr style=\"text-align: right;\">\n",
              "      <th></th>\n",
              "      <th>Sex</th>\n",
              "      <th>Age</th>\n",
              "      <th>Birth Weight</th>\n",
              "      <th>Birth Length</th>\n",
              "      <th>Body Weight</th>\n",
              "      <th>Body Length</th>\n",
              "      <th>ASI Eksklusif</th>\n",
              "      <th>Stunting</th>\n",
              "    </tr>\n",
              "  </thead>\n",
              "  <tbody>\n",
              "    <tr>\n",
              "      <th>0</th>\n",
              "      <td>F</td>\n",
              "      <td>56</td>\n",
              "      <td>2.9</td>\n",
              "      <td>50</td>\n",
              "      <td>11.0</td>\n",
              "      <td>90.0</td>\n",
              "      <td>Yes</td>\n",
              "      <td>No</td>\n",
              "    </tr>\n",
              "    <tr>\n",
              "      <th>1</th>\n",
              "      <td>F</td>\n",
              "      <td>20</td>\n",
              "      <td>3.3</td>\n",
              "      <td>49</td>\n",
              "      <td>11.1</td>\n",
              "      <td>80.5</td>\n",
              "      <td>No</td>\n",
              "      <td>No</td>\n",
              "    </tr>\n",
              "    <tr>\n",
              "      <th>2</th>\n",
              "      <td>M</td>\n",
              "      <td>4</td>\n",
              "      <td>2.8</td>\n",
              "      <td>48</td>\n",
              "      <td>6.5</td>\n",
              "      <td>63.0</td>\n",
              "      <td>No</td>\n",
              "      <td>No</td>\n",
              "    </tr>\n",
              "    <tr>\n",
              "      <th>3</th>\n",
              "      <td>F</td>\n",
              "      <td>14</td>\n",
              "      <td>2.0</td>\n",
              "      <td>49</td>\n",
              "      <td>7.0</td>\n",
              "      <td>71.0</td>\n",
              "      <td>Yes</td>\n",
              "      <td>No</td>\n",
              "    </tr>\n",
              "    <tr>\n",
              "      <th>4</th>\n",
              "      <td>M</td>\n",
              "      <td>32</td>\n",
              "      <td>3.2</td>\n",
              "      <td>49</td>\n",
              "      <td>11.0</td>\n",
              "      <td>88.7</td>\n",
              "      <td>Yes</td>\n",
              "      <td>No</td>\n",
              "    </tr>\n",
              "    <tr>\n",
              "      <th>...</th>\n",
              "      <td>...</td>\n",
              "      <td>...</td>\n",
              "      <td>...</td>\n",
              "      <td>...</td>\n",
              "      <td>...</td>\n",
              "      <td>...</td>\n",
              "      <td>...</td>\n",
              "      <td>...</td>\n",
              "    </tr>\n",
              "    <tr>\n",
              "      <th>6495</th>\n",
              "      <td>M</td>\n",
              "      <td>53</td>\n",
              "      <td>2.9</td>\n",
              "      <td>49</td>\n",
              "      <td>15.0</td>\n",
              "      <td>96.0</td>\n",
              "      <td>No</td>\n",
              "      <td>Yes</td>\n",
              "    </tr>\n",
              "    <tr>\n",
              "      <th>6496</th>\n",
              "      <td>M</td>\n",
              "      <td>9</td>\n",
              "      <td>2.9</td>\n",
              "      <td>50</td>\n",
              "      <td>7.3</td>\n",
              "      <td>62.0</td>\n",
              "      <td>No</td>\n",
              "      <td>Yes</td>\n",
              "    </tr>\n",
              "    <tr>\n",
              "      <th>6497</th>\n",
              "      <td>F</td>\n",
              "      <td>20</td>\n",
              "      <td>1.8</td>\n",
              "      <td>48</td>\n",
              "      <td>7.3</td>\n",
              "      <td>73.0</td>\n",
              "      <td>Yes</td>\n",
              "      <td>Yes</td>\n",
              "    </tr>\n",
              "    <tr>\n",
              "      <th>6498</th>\n",
              "      <td>M</td>\n",
              "      <td>11</td>\n",
              "      <td>2.9</td>\n",
              "      <td>49</td>\n",
              "      <td>7.7</td>\n",
              "      <td>66.0</td>\n",
              "      <td>No</td>\n",
              "      <td>Yes</td>\n",
              "    </tr>\n",
              "    <tr>\n",
              "      <th>6499</th>\n",
              "      <td>F</td>\n",
              "      <td>14</td>\n",
              "      <td>2.9</td>\n",
              "      <td>49</td>\n",
              "      <td>6.5</td>\n",
              "      <td>66.0</td>\n",
              "      <td>No</td>\n",
              "      <td>Yes</td>\n",
              "    </tr>\n",
              "  </tbody>\n",
              "</table>\n",
              "<p>6500 rows × 8 columns</p>\n",
              "</div>\n",
              "      <button class=\"colab-df-convert\" onclick=\"convertToInteractive('df-517edad8-7e53-4bd0-8822-6b54d52a8b0a')\"\n",
              "              title=\"Convert this dataframe to an interactive table.\"\n",
              "              style=\"display:none;\">\n",
              "        \n",
              "  <svg xmlns=\"http://www.w3.org/2000/svg\" height=\"24px\"viewBox=\"0 0 24 24\"\n",
              "       width=\"24px\">\n",
              "    <path d=\"M0 0h24v24H0V0z\" fill=\"none\"/>\n",
              "    <path d=\"M18.56 5.44l.94 2.06.94-2.06 2.06-.94-2.06-.94-.94-2.06-.94 2.06-2.06.94zm-11 1L8.5 8.5l.94-2.06 2.06-.94-2.06-.94L8.5 2.5l-.94 2.06-2.06.94zm10 10l.94 2.06.94-2.06 2.06-.94-2.06-.94-.94-2.06-.94 2.06-2.06.94z\"/><path d=\"M17.41 7.96l-1.37-1.37c-.4-.4-.92-.59-1.43-.59-.52 0-1.04.2-1.43.59L10.3 9.45l-7.72 7.72c-.78.78-.78 2.05 0 2.83L4 21.41c.39.39.9.59 1.41.59.51 0 1.02-.2 1.41-.59l7.78-7.78 2.81-2.81c.8-.78.8-2.07 0-2.86zM5.41 20L4 18.59l7.72-7.72 1.47 1.35L5.41 20z\"/>\n",
              "  </svg>\n",
              "      </button>\n",
              "      \n",
              "  <style>\n",
              "    .colab-df-container {\n",
              "      display:flex;\n",
              "      flex-wrap:wrap;\n",
              "      gap: 12px;\n",
              "    }\n",
              "\n",
              "    .colab-df-convert {\n",
              "      background-color: #E8F0FE;\n",
              "      border: none;\n",
              "      border-radius: 50%;\n",
              "      cursor: pointer;\n",
              "      display: none;\n",
              "      fill: #1967D2;\n",
              "      height: 32px;\n",
              "      padding: 0 0 0 0;\n",
              "      width: 32px;\n",
              "    }\n",
              "\n",
              "    .colab-df-convert:hover {\n",
              "      background-color: #E2EBFA;\n",
              "      box-shadow: 0px 1px 2px rgba(60, 64, 67, 0.3), 0px 1px 3px 1px rgba(60, 64, 67, 0.15);\n",
              "      fill: #174EA6;\n",
              "    }\n",
              "\n",
              "    [theme=dark] .colab-df-convert {\n",
              "      background-color: #3B4455;\n",
              "      fill: #D2E3FC;\n",
              "    }\n",
              "\n",
              "    [theme=dark] .colab-df-convert:hover {\n",
              "      background-color: #434B5C;\n",
              "      box-shadow: 0px 1px 3px 1px rgba(0, 0, 0, 0.15);\n",
              "      filter: drop-shadow(0px 1px 2px rgba(0, 0, 0, 0.3));\n",
              "      fill: #FFFFFF;\n",
              "    }\n",
              "  </style>\n",
              "\n",
              "      <script>\n",
              "        const buttonEl =\n",
              "          document.querySelector('#df-517edad8-7e53-4bd0-8822-6b54d52a8b0a button.colab-df-convert');\n",
              "        buttonEl.style.display =\n",
              "          google.colab.kernel.accessAllowed ? 'block' : 'none';\n",
              "\n",
              "        async function convertToInteractive(key) {\n",
              "          const element = document.querySelector('#df-517edad8-7e53-4bd0-8822-6b54d52a8b0a');\n",
              "          const dataTable =\n",
              "            await google.colab.kernel.invokeFunction('convertToInteractive',\n",
              "                                                     [key], {});\n",
              "          if (!dataTable) return;\n",
              "\n",
              "          const docLinkHtml = 'Like what you see? Visit the ' +\n",
              "            '<a target=\"_blank\" href=https://colab.research.google.com/notebooks/data_table.ipynb>data table notebook</a>'\n",
              "            + ' to learn more about interactive tables.';\n",
              "          element.innerHTML = '';\n",
              "          dataTable['output_type'] = 'display_data';\n",
              "          await google.colab.output.renderOutput(dataTable, element);\n",
              "          const docLink = document.createElement('div');\n",
              "          docLink.innerHTML = docLinkHtml;\n",
              "          element.appendChild(docLink);\n",
              "        }\n",
              "      </script>\n",
              "    </div>\n",
              "  </div>\n",
              "  "
            ]
          },
          "metadata": {},
          "execution_count": 4
        }
      ]
    },
    {
      "cell_type": "code",
      "source": [
        "#Finding Missing Data\n",
        "df.isnull().sum()"
      ],
      "metadata": {
        "colab": {
          "base_uri": "https://localhost:8080/"
        },
        "id": "BchaZ8T-V1AB",
        "outputId": "991299f6-19d6-4c67-a833-78506a79b5a3"
      },
      "execution_count": 5,
      "outputs": [
        {
          "output_type": "execute_result",
          "data": {
            "text/plain": [
              "Sex              0\n",
              "Age              0\n",
              "Birth Weight     0\n",
              "Birth Length     0\n",
              "Body Weight      0\n",
              "Body Length      0\n",
              "ASI Eksklusif    0\n",
              "Stunting         0\n",
              "dtype: int64"
            ]
          },
          "metadata": {},
          "execution_count": 5
        }
      ]
    },
    {
      "cell_type": "code",
      "source": [
        "#Counting Stunting Case for each case\n",
        "df['Stunting'].value_counts()"
      ],
      "metadata": {
        "colab": {
          "base_uri": "https://localhost:8080/"
        },
        "id": "rkHNfWx78TYR",
        "outputId": "2b8e70a3-000f-4244-ba59-88362f204a59"
      },
      "execution_count": 6,
      "outputs": [
        {
          "output_type": "execute_result",
          "data": {
            "text/plain": [
              "Yes    3312\n",
              "No     3188\n",
              "Name: Stunting, dtype: int64"
            ]
          },
          "metadata": {},
          "execution_count": 6
        }
      ]
    },
    {
      "cell_type": "code",
      "source": [
        "#Display Information of Dataset\n",
        "df.info()"
      ],
      "metadata": {
        "colab": {
          "base_uri": "https://localhost:8080/"
        },
        "id": "phmG5Tw4VlHd",
        "outputId": "8e15235f-2cf3-4dad-d652-1e921692e3de"
      },
      "execution_count": 7,
      "outputs": [
        {
          "output_type": "stream",
          "name": "stdout",
          "text": [
            "<class 'pandas.core.frame.DataFrame'>\n",
            "RangeIndex: 6500 entries, 0 to 6499\n",
            "Data columns (total 8 columns):\n",
            " #   Column         Non-Null Count  Dtype  \n",
            "---  ------         --------------  -----  \n",
            " 0   Sex            6500 non-null   object \n",
            " 1   Age            6500 non-null   int64  \n",
            " 2   Birth Weight   6500 non-null   float64\n",
            " 3   Birth Length   6500 non-null   int64  \n",
            " 4   Body Weight    6500 non-null   float64\n",
            " 5   Body Length    6500 non-null   float64\n",
            " 6   ASI Eksklusif  6500 non-null   object \n",
            " 7   Stunting       6500 non-null   object \n",
            "dtypes: float64(3), int64(2), object(3)\n",
            "memory usage: 406.4+ KB\n"
          ]
        }
      ]
    },
    {
      "cell_type": "code",
      "source": [
        "#Checking the Dimension of dataset\n",
        "df.shape"
      ],
      "metadata": {
        "colab": {
          "base_uri": "https://localhost:8080/"
        },
        "id": "R0isNoopJ6oK",
        "outputId": "58266f97-19ae-4ae8-d139-79ff2c476c78"
      },
      "execution_count": 8,
      "outputs": [
        {
          "output_type": "execute_result",
          "data": {
            "text/plain": [
              "(6500, 8)"
            ]
          },
          "metadata": {},
          "execution_count": 8
        }
      ]
    },
    {
      "cell_type": "code",
      "source": [
        "# Make dictionary for label encoding\n",
        "sex_encoding = {'M': 1, 'F': 0}\n",
        "asi_encoding = {'No': 0, 'Yes': 1}\n",
        "stunting_encoding = {'No': 0, 'Yes': 1}\n",
        "\n",
        "# Doing label encoding using map method\n",
        "df['Sex'] = df['Sex'].map(sex_encoding)\n",
        "df['ASI Eksklusif'] = df['ASI Eksklusif'].map(asi_encoding)\n",
        "df['Stunting'] = df['Stunting'].map(stunting_encoding)\n",
        "\n",
        "df"
      ],
      "metadata": {
        "colab": {
          "base_uri": "https://localhost:8080/",
          "height": 423
        },
        "id": "uczylmLapVZg",
        "outputId": "1d3bd00a-1f4e-41ac-ef6f-758756c96438"
      },
      "execution_count": 9,
      "outputs": [
        {
          "output_type": "execute_result",
          "data": {
            "text/plain": [
              "      Sex  Age  Birth Weight  Birth Length  Body Weight  Body Length  \\\n",
              "0       0   56           2.9            50         11.0         90.0   \n",
              "1       0   20           3.3            49         11.1         80.5   \n",
              "2       1    4           2.8            48          6.5         63.0   \n",
              "3       0   14           2.0            49          7.0         71.0   \n",
              "4       1   32           3.2            49         11.0         88.7   \n",
              "...   ...  ...           ...           ...          ...          ...   \n",
              "6495    1   53           2.9            49         15.0         96.0   \n",
              "6496    1    9           2.9            50          7.3         62.0   \n",
              "6497    0   20           1.8            48          7.3         73.0   \n",
              "6498    1   11           2.9            49          7.7         66.0   \n",
              "6499    0   14           2.9            49          6.5         66.0   \n",
              "\n",
              "      ASI Eksklusif  Stunting  \n",
              "0                 1         0  \n",
              "1                 0         0  \n",
              "2                 0         0  \n",
              "3                 1         0  \n",
              "4                 1         0  \n",
              "...             ...       ...  \n",
              "6495              0         1  \n",
              "6496              0         1  \n",
              "6497              1         1  \n",
              "6498              0         1  \n",
              "6499              0         1  \n",
              "\n",
              "[6500 rows x 8 columns]"
            ],
            "text/html": [
              "\n",
              "  <div id=\"df-f6785dd1-850c-4c9a-af9c-4b0e1320fa76\">\n",
              "    <div class=\"colab-df-container\">\n",
              "      <div>\n",
              "<style scoped>\n",
              "    .dataframe tbody tr th:only-of-type {\n",
              "        vertical-align: middle;\n",
              "    }\n",
              "\n",
              "    .dataframe tbody tr th {\n",
              "        vertical-align: top;\n",
              "    }\n",
              "\n",
              "    .dataframe thead th {\n",
              "        text-align: right;\n",
              "    }\n",
              "</style>\n",
              "<table border=\"1\" class=\"dataframe\">\n",
              "  <thead>\n",
              "    <tr style=\"text-align: right;\">\n",
              "      <th></th>\n",
              "      <th>Sex</th>\n",
              "      <th>Age</th>\n",
              "      <th>Birth Weight</th>\n",
              "      <th>Birth Length</th>\n",
              "      <th>Body Weight</th>\n",
              "      <th>Body Length</th>\n",
              "      <th>ASI Eksklusif</th>\n",
              "      <th>Stunting</th>\n",
              "    </tr>\n",
              "  </thead>\n",
              "  <tbody>\n",
              "    <tr>\n",
              "      <th>0</th>\n",
              "      <td>0</td>\n",
              "      <td>56</td>\n",
              "      <td>2.9</td>\n",
              "      <td>50</td>\n",
              "      <td>11.0</td>\n",
              "      <td>90.0</td>\n",
              "      <td>1</td>\n",
              "      <td>0</td>\n",
              "    </tr>\n",
              "    <tr>\n",
              "      <th>1</th>\n",
              "      <td>0</td>\n",
              "      <td>20</td>\n",
              "      <td>3.3</td>\n",
              "      <td>49</td>\n",
              "      <td>11.1</td>\n",
              "      <td>80.5</td>\n",
              "      <td>0</td>\n",
              "      <td>0</td>\n",
              "    </tr>\n",
              "    <tr>\n",
              "      <th>2</th>\n",
              "      <td>1</td>\n",
              "      <td>4</td>\n",
              "      <td>2.8</td>\n",
              "      <td>48</td>\n",
              "      <td>6.5</td>\n",
              "      <td>63.0</td>\n",
              "      <td>0</td>\n",
              "      <td>0</td>\n",
              "    </tr>\n",
              "    <tr>\n",
              "      <th>3</th>\n",
              "      <td>0</td>\n",
              "      <td>14</td>\n",
              "      <td>2.0</td>\n",
              "      <td>49</td>\n",
              "      <td>7.0</td>\n",
              "      <td>71.0</td>\n",
              "      <td>1</td>\n",
              "      <td>0</td>\n",
              "    </tr>\n",
              "    <tr>\n",
              "      <th>4</th>\n",
              "      <td>1</td>\n",
              "      <td>32</td>\n",
              "      <td>3.2</td>\n",
              "      <td>49</td>\n",
              "      <td>11.0</td>\n",
              "      <td>88.7</td>\n",
              "      <td>1</td>\n",
              "      <td>0</td>\n",
              "    </tr>\n",
              "    <tr>\n",
              "      <th>...</th>\n",
              "      <td>...</td>\n",
              "      <td>...</td>\n",
              "      <td>...</td>\n",
              "      <td>...</td>\n",
              "      <td>...</td>\n",
              "      <td>...</td>\n",
              "      <td>...</td>\n",
              "      <td>...</td>\n",
              "    </tr>\n",
              "    <tr>\n",
              "      <th>6495</th>\n",
              "      <td>1</td>\n",
              "      <td>53</td>\n",
              "      <td>2.9</td>\n",
              "      <td>49</td>\n",
              "      <td>15.0</td>\n",
              "      <td>96.0</td>\n",
              "      <td>0</td>\n",
              "      <td>1</td>\n",
              "    </tr>\n",
              "    <tr>\n",
              "      <th>6496</th>\n",
              "      <td>1</td>\n",
              "      <td>9</td>\n",
              "      <td>2.9</td>\n",
              "      <td>50</td>\n",
              "      <td>7.3</td>\n",
              "      <td>62.0</td>\n",
              "      <td>0</td>\n",
              "      <td>1</td>\n",
              "    </tr>\n",
              "    <tr>\n",
              "      <th>6497</th>\n",
              "      <td>0</td>\n",
              "      <td>20</td>\n",
              "      <td>1.8</td>\n",
              "      <td>48</td>\n",
              "      <td>7.3</td>\n",
              "      <td>73.0</td>\n",
              "      <td>1</td>\n",
              "      <td>1</td>\n",
              "    </tr>\n",
              "    <tr>\n",
              "      <th>6498</th>\n",
              "      <td>1</td>\n",
              "      <td>11</td>\n",
              "      <td>2.9</td>\n",
              "      <td>49</td>\n",
              "      <td>7.7</td>\n",
              "      <td>66.0</td>\n",
              "      <td>0</td>\n",
              "      <td>1</td>\n",
              "    </tr>\n",
              "    <tr>\n",
              "      <th>6499</th>\n",
              "      <td>0</td>\n",
              "      <td>14</td>\n",
              "      <td>2.9</td>\n",
              "      <td>49</td>\n",
              "      <td>6.5</td>\n",
              "      <td>66.0</td>\n",
              "      <td>0</td>\n",
              "      <td>1</td>\n",
              "    </tr>\n",
              "  </tbody>\n",
              "</table>\n",
              "<p>6500 rows × 8 columns</p>\n",
              "</div>\n",
              "      <button class=\"colab-df-convert\" onclick=\"convertToInteractive('df-f6785dd1-850c-4c9a-af9c-4b0e1320fa76')\"\n",
              "              title=\"Convert this dataframe to an interactive table.\"\n",
              "              style=\"display:none;\">\n",
              "        \n",
              "  <svg xmlns=\"http://www.w3.org/2000/svg\" height=\"24px\"viewBox=\"0 0 24 24\"\n",
              "       width=\"24px\">\n",
              "    <path d=\"M0 0h24v24H0V0z\" fill=\"none\"/>\n",
              "    <path d=\"M18.56 5.44l.94 2.06.94-2.06 2.06-.94-2.06-.94-.94-2.06-.94 2.06-2.06.94zm-11 1L8.5 8.5l.94-2.06 2.06-.94-2.06-.94L8.5 2.5l-.94 2.06-2.06.94zm10 10l.94 2.06.94-2.06 2.06-.94-2.06-.94-.94-2.06-.94 2.06-2.06.94z\"/><path d=\"M17.41 7.96l-1.37-1.37c-.4-.4-.92-.59-1.43-.59-.52 0-1.04.2-1.43.59L10.3 9.45l-7.72 7.72c-.78.78-.78 2.05 0 2.83L4 21.41c.39.39.9.59 1.41.59.51 0 1.02-.2 1.41-.59l7.78-7.78 2.81-2.81c.8-.78.8-2.07 0-2.86zM5.41 20L4 18.59l7.72-7.72 1.47 1.35L5.41 20z\"/>\n",
              "  </svg>\n",
              "      </button>\n",
              "      \n",
              "  <style>\n",
              "    .colab-df-container {\n",
              "      display:flex;\n",
              "      flex-wrap:wrap;\n",
              "      gap: 12px;\n",
              "    }\n",
              "\n",
              "    .colab-df-convert {\n",
              "      background-color: #E8F0FE;\n",
              "      border: none;\n",
              "      border-radius: 50%;\n",
              "      cursor: pointer;\n",
              "      display: none;\n",
              "      fill: #1967D2;\n",
              "      height: 32px;\n",
              "      padding: 0 0 0 0;\n",
              "      width: 32px;\n",
              "    }\n",
              "\n",
              "    .colab-df-convert:hover {\n",
              "      background-color: #E2EBFA;\n",
              "      box-shadow: 0px 1px 2px rgba(60, 64, 67, 0.3), 0px 1px 3px 1px rgba(60, 64, 67, 0.15);\n",
              "      fill: #174EA6;\n",
              "    }\n",
              "\n",
              "    [theme=dark] .colab-df-convert {\n",
              "      background-color: #3B4455;\n",
              "      fill: #D2E3FC;\n",
              "    }\n",
              "\n",
              "    [theme=dark] .colab-df-convert:hover {\n",
              "      background-color: #434B5C;\n",
              "      box-shadow: 0px 1px 3px 1px rgba(0, 0, 0, 0.15);\n",
              "      filter: drop-shadow(0px 1px 2px rgba(0, 0, 0, 0.3));\n",
              "      fill: #FFFFFF;\n",
              "    }\n",
              "  </style>\n",
              "\n",
              "      <script>\n",
              "        const buttonEl =\n",
              "          document.querySelector('#df-f6785dd1-850c-4c9a-af9c-4b0e1320fa76 button.colab-df-convert');\n",
              "        buttonEl.style.display =\n",
              "          google.colab.kernel.accessAllowed ? 'block' : 'none';\n",
              "\n",
              "        async function convertToInteractive(key) {\n",
              "          const element = document.querySelector('#df-f6785dd1-850c-4c9a-af9c-4b0e1320fa76');\n",
              "          const dataTable =\n",
              "            await google.colab.kernel.invokeFunction('convertToInteractive',\n",
              "                                                     [key], {});\n",
              "          if (!dataTable) return;\n",
              "\n",
              "          const docLinkHtml = 'Like what you see? Visit the ' +\n",
              "            '<a target=\"_blank\" href=https://colab.research.google.com/notebooks/data_table.ipynb>data table notebook</a>'\n",
              "            + ' to learn more about interactive tables.';\n",
              "          element.innerHTML = '';\n",
              "          dataTable['output_type'] = 'display_data';\n",
              "          await google.colab.output.renderOutput(dataTable, element);\n",
              "          const docLink = document.createElement('div');\n",
              "          docLink.innerHTML = docLinkHtml;\n",
              "          element.appendChild(docLink);\n",
              "        }\n",
              "      </script>\n",
              "    </div>\n",
              "  </div>\n",
              "  "
            ]
          },
          "metadata": {},
          "execution_count": 9
        }
      ]
    },
    {
      "cell_type": "code",
      "source": [
        "new = df.drop(columns=[\"Stunting\"])\n",
        "# Normalize the data using MinMaxScaler\n",
        "scaler = MinMaxScaler()\n",
        "normalized_data = scaler.fit_transform(new)\n",
        "\n",
        "# Convert the normalized data back to a DataFrame\n",
        "normalized_df = pd.DataFrame(normalized_data, columns=new.columns)\n",
        "\n",
        "# Save the normalization model using joblib\n",
        "joblib.dump(scaler, 'normalization_model.joblib')\n",
        "\n",
        "# Print the normalized DataFrame\n",
        "print(normalized_df)"
      ],
      "metadata": {
        "colab": {
          "base_uri": "https://localhost:8080/"
        },
        "id": "LME5qbGkXvaJ",
        "outputId": "2ae91ef0-051a-4a58-ade9-49f3d645df6b"
      },
      "execution_count": 10,
      "outputs": [
        {
          "output_type": "stream",
          "name": "stdout",
          "text": [
            "      Sex       Age  Birth Weight  Birth Length  Body Weight  Body Length  \\\n",
            "0     0.0  0.948276      0.500000      0.727273     0.375000     0.637931   \n",
            "1     0.0  0.327586      0.681818      0.636364     0.379630     0.474138   \n",
            "2     1.0  0.051724      0.454545      0.545455     0.166667     0.172414   \n",
            "3     0.0  0.224138      0.090909      0.636364     0.189815     0.310345   \n",
            "4     1.0  0.534483      0.636364      0.636364     0.375000     0.615517   \n",
            "...   ...       ...           ...           ...          ...          ...   \n",
            "6495  1.0  0.896552      0.500000      0.636364     0.560185     0.741379   \n",
            "6496  1.0  0.137931      0.500000      0.727273     0.203704     0.155172   \n",
            "6497  0.0  0.327586      0.000000      0.545455     0.203704     0.344828   \n",
            "6498  1.0  0.172414      0.500000      0.636364     0.222222     0.224138   \n",
            "6499  0.0  0.224138      0.500000      0.636364     0.166667     0.224138   \n",
            "\n",
            "      ASI Eksklusif  \n",
            "0               1.0  \n",
            "1               0.0  \n",
            "2               0.0  \n",
            "3               1.0  \n",
            "4               1.0  \n",
            "...             ...  \n",
            "6495            0.0  \n",
            "6496            0.0  \n",
            "6497            1.0  \n",
            "6498            0.0  \n",
            "6499            0.0  \n",
            "\n",
            "[6500 rows x 7 columns]\n"
          ]
        }
      ]
    },
    {
      "cell_type": "code",
      "source": [
        "#Data Splitting\n",
        "# Separating the Feature and Labels\n",
        "X = normalized_df\n",
        "y = df[\"Stunting\"]\n",
        "\n",
        "# Split the dataset into training and test sets\n",
        "X_train, X_test, y_train, y_test = train_test_split(X, y, test_size=0.1, random_state=64)"
      ],
      "metadata": {
        "id": "mz9jYlhQzIAU"
      },
      "execution_count": 11,
      "outputs": []
    },
    {
      "cell_type": "markdown",
      "source": [
        "## **Model Architecture**"
      ],
      "metadata": {
        "id": "6mZQPlPywqvB"
      }
    },
    {
      "cell_type": "code",
      "source": [
        "model = tf.keras.Sequential([\n",
        "    tf.keras.layers.Dense(64, activation='relu', input_shape=(7,)),\n",
        "    tf.keras.layers.Dense(32, activation='relu'),\n",
        "    tf.keras.layers.Dense(16, activation='relu'),\n",
        "    tf.keras.layers.Dense(8, activation='relu'),\n",
        "    tf.keras.layers.Dense(1, activation='sigmoid')\n",
        "])"
      ],
      "metadata": {
        "id": "GV2iiaCxuqwU"
      },
      "execution_count": 12,
      "outputs": []
    },
    {
      "cell_type": "code",
      "source": [
        "bce = tf.keras.losses.BinaryCrossentropy(from_logits=False)\n",
        "optimizer = tf.keras.optimizers.Adam(learning_rate=1e-3)\n",
        "\n",
        "model.compile(\n",
        "    loss=bce,\n",
        "    optimizer=optimizer,\n",
        "    metrics=['accuracy']\n",
        ")"
      ],
      "metadata": {
        "id": "uoUhB-Jv0qS8"
      },
      "execution_count": 13,
      "outputs": []
    },
    {
      "cell_type": "code",
      "source": [
        "history = model.fit(X_train, y_train, epochs=100, batch_size=128, validation_data=(X_test, y_test))"
      ],
      "metadata": {
        "id": "V0eidbOPyOrJ",
        "colab": {
          "base_uri": "https://localhost:8080/"
        },
        "outputId": "f74e1a92-0fa9-4f7d-8681-9d938f2d44ba"
      },
      "execution_count": 14,
      "outputs": [
        {
          "output_type": "stream",
          "name": "stdout",
          "text": [
            "Epoch 1/100\n",
            "46/46 [==============================] - 8s 15ms/step - loss: 0.6554 - accuracy: 0.6858 - val_loss: 0.6231 - val_accuracy: 0.6938\n",
            "Epoch 2/100\n",
            "46/46 [==============================] - 0s 10ms/step - loss: 0.5832 - accuracy: 0.7150 - val_loss: 0.5809 - val_accuracy: 0.6938\n",
            "Epoch 3/100\n",
            "46/46 [==============================] - 1s 12ms/step - loss: 0.5371 - accuracy: 0.7188 - val_loss: 0.5147 - val_accuracy: 0.7354\n",
            "Epoch 4/100\n",
            "46/46 [==============================] - 1s 17ms/step - loss: 0.4775 - accuracy: 0.7732 - val_loss: 0.4395 - val_accuracy: 0.8415\n",
            "Epoch 5/100\n",
            "46/46 [==============================] - 1s 17ms/step - loss: 0.4134 - accuracy: 0.8344 - val_loss: 0.3728 - val_accuracy: 0.8477\n",
            "Epoch 6/100\n",
            "46/46 [==============================] - 1s 13ms/step - loss: 0.3691 - accuracy: 0.8494 - val_loss: 0.3301 - val_accuracy: 0.8631\n",
            "Epoch 7/100\n",
            "46/46 [==============================] - 1s 12ms/step - loss: 0.3426 - accuracy: 0.8595 - val_loss: 0.3224 - val_accuracy: 0.8523\n",
            "Epoch 8/100\n",
            "46/46 [==============================] - 1s 15ms/step - loss: 0.3248 - accuracy: 0.8680 - val_loss: 0.2923 - val_accuracy: 0.8815\n",
            "Epoch 9/100\n",
            "46/46 [==============================] - 1s 14ms/step - loss: 0.3068 - accuracy: 0.8785 - val_loss: 0.2758 - val_accuracy: 0.8908\n",
            "Epoch 10/100\n",
            "46/46 [==============================] - 1s 14ms/step - loss: 0.2986 - accuracy: 0.8851 - val_loss: 0.2890 - val_accuracy: 0.8846\n",
            "Epoch 11/100\n",
            "46/46 [==============================] - 1s 15ms/step - loss: 0.2904 - accuracy: 0.8844 - val_loss: 0.2582 - val_accuracy: 0.8938\n",
            "Epoch 12/100\n",
            "46/46 [==============================] - 1s 11ms/step - loss: 0.2816 - accuracy: 0.8918 - val_loss: 0.2641 - val_accuracy: 0.9031\n",
            "Epoch 13/100\n",
            "46/46 [==============================] - 0s 9ms/step - loss: 0.2811 - accuracy: 0.8971 - val_loss: 0.2460 - val_accuracy: 0.8846\n",
            "Epoch 14/100\n",
            "46/46 [==============================] - 1s 12ms/step - loss: 0.2778 - accuracy: 0.8968 - val_loss: 0.2353 - val_accuracy: 0.9385\n",
            "Epoch 15/100\n",
            "46/46 [==============================] - 0s 11ms/step - loss: 0.2716 - accuracy: 0.9009 - val_loss: 0.2394 - val_accuracy: 0.8938\n",
            "Epoch 16/100\n",
            "46/46 [==============================] - 0s 9ms/step - loss: 0.2657 - accuracy: 0.9050 - val_loss: 0.2310 - val_accuracy: 0.9231\n",
            "Epoch 17/100\n",
            "46/46 [==============================] - 0s 9ms/step - loss: 0.2682 - accuracy: 0.9007 - val_loss: 0.2666 - val_accuracy: 0.8938\n",
            "Epoch 18/100\n",
            "46/46 [==============================] - 0s 10ms/step - loss: 0.2652 - accuracy: 0.9079 - val_loss: 0.2277 - val_accuracy: 0.9354\n",
            "Epoch 19/100\n",
            "46/46 [==============================] - 0s 9ms/step - loss: 0.2587 - accuracy: 0.9115 - val_loss: 0.2323 - val_accuracy: 0.8923\n",
            "Epoch 20/100\n",
            "46/46 [==============================] - 0s 10ms/step - loss: 0.2531 - accuracy: 0.9166 - val_loss: 0.2231 - val_accuracy: 0.9108\n",
            "Epoch 21/100\n",
            "46/46 [==============================] - 0s 9ms/step - loss: 0.2559 - accuracy: 0.9159 - val_loss: 0.2297 - val_accuracy: 0.9277\n",
            "Epoch 22/100\n",
            "46/46 [==============================] - 0s 9ms/step - loss: 0.2533 - accuracy: 0.9169 - val_loss: 0.2238 - val_accuracy: 0.9262\n",
            "Epoch 23/100\n",
            "46/46 [==============================] - 0s 9ms/step - loss: 0.2495 - accuracy: 0.9195 - val_loss: 0.2189 - val_accuracy: 0.9262\n",
            "Epoch 24/100\n",
            "46/46 [==============================] - 0s 10ms/step - loss: 0.2470 - accuracy: 0.9188 - val_loss: 0.2201 - val_accuracy: 0.9277\n",
            "Epoch 25/100\n",
            "46/46 [==============================] - 0s 7ms/step - loss: 0.2478 - accuracy: 0.9195 - val_loss: 0.2322 - val_accuracy: 0.9138\n",
            "Epoch 26/100\n",
            "46/46 [==============================] - 0s 9ms/step - loss: 0.2440 - accuracy: 0.9246 - val_loss: 0.2152 - val_accuracy: 0.9338\n",
            "Epoch 27/100\n",
            "46/46 [==============================] - 0s 10ms/step - loss: 0.2410 - accuracy: 0.9292 - val_loss: 0.2131 - val_accuracy: 0.9262\n",
            "Epoch 28/100\n",
            "46/46 [==============================] - 0s 9ms/step - loss: 0.2401 - accuracy: 0.9246 - val_loss: 0.2167 - val_accuracy: 0.9308\n",
            "Epoch 29/100\n",
            "46/46 [==============================] - 0s 10ms/step - loss: 0.2376 - accuracy: 0.9251 - val_loss: 0.2300 - val_accuracy: 0.9154\n",
            "Epoch 30/100\n",
            "46/46 [==============================] - 0s 9ms/step - loss: 0.2391 - accuracy: 0.9267 - val_loss: 0.2121 - val_accuracy: 0.9354\n",
            "Epoch 31/100\n",
            "46/46 [==============================] - 0s 8ms/step - loss: 0.2378 - accuracy: 0.9250 - val_loss: 0.2042 - val_accuracy: 0.9415\n",
            "Epoch 32/100\n",
            "46/46 [==============================] - 1s 11ms/step - loss: 0.2330 - accuracy: 0.9309 - val_loss: 0.2273 - val_accuracy: 0.9169\n",
            "Epoch 33/100\n",
            "46/46 [==============================] - 0s 8ms/step - loss: 0.2344 - accuracy: 0.9251 - val_loss: 0.2028 - val_accuracy: 0.9400\n",
            "Epoch 34/100\n",
            "46/46 [==============================] - 0s 10ms/step - loss: 0.2306 - accuracy: 0.9299 - val_loss: 0.2012 - val_accuracy: 0.9415\n",
            "Epoch 35/100\n",
            "46/46 [==============================] - 0s 7ms/step - loss: 0.2276 - accuracy: 0.9316 - val_loss: 0.1988 - val_accuracy: 0.9477\n",
            "Epoch 36/100\n",
            "46/46 [==============================] - 0s 9ms/step - loss: 0.2277 - accuracy: 0.9297 - val_loss: 0.2092 - val_accuracy: 0.9292\n",
            "Epoch 37/100\n",
            "46/46 [==============================] - 0s 8ms/step - loss: 0.2234 - accuracy: 0.9340 - val_loss: 0.1976 - val_accuracy: 0.9446\n",
            "Epoch 38/100\n",
            "46/46 [==============================] - 0s 8ms/step - loss: 0.2252 - accuracy: 0.9335 - val_loss: 0.1970 - val_accuracy: 0.9400\n",
            "Epoch 39/100\n",
            "46/46 [==============================] - 0s 9ms/step - loss: 0.2223 - accuracy: 0.9337 - val_loss: 0.1947 - val_accuracy: 0.9369\n",
            "Epoch 40/100\n",
            "46/46 [==============================] - 0s 7ms/step - loss: 0.2238 - accuracy: 0.9292 - val_loss: 0.1997 - val_accuracy: 0.9508\n",
            "Epoch 41/100\n",
            "46/46 [==============================] - 0s 8ms/step - loss: 0.2178 - accuracy: 0.9371 - val_loss: 0.1950 - val_accuracy: 0.9415\n",
            "Epoch 42/100\n",
            "46/46 [==============================] - 0s 8ms/step - loss: 0.2212 - accuracy: 0.9297 - val_loss: 0.2261 - val_accuracy: 0.9092\n",
            "Epoch 43/100\n",
            "46/46 [==============================] - 0s 7ms/step - loss: 0.2210 - accuracy: 0.9316 - val_loss: 0.1921 - val_accuracy: 0.9492\n",
            "Epoch 44/100\n",
            "46/46 [==============================] - 0s 7ms/step - loss: 0.2266 - accuracy: 0.9260 - val_loss: 0.2245 - val_accuracy: 0.9154\n",
            "Epoch 45/100\n",
            "46/46 [==============================] - 0s 7ms/step - loss: 0.2254 - accuracy: 0.9280 - val_loss: 0.2095 - val_accuracy: 0.9123\n",
            "Epoch 46/100\n",
            "46/46 [==============================] - 0s 5ms/step - loss: 0.2131 - accuracy: 0.9371 - val_loss: 0.1937 - val_accuracy: 0.9508\n",
            "Epoch 47/100\n",
            "46/46 [==============================] - 0s 5ms/step - loss: 0.2127 - accuracy: 0.9373 - val_loss: 0.1987 - val_accuracy: 0.9354\n",
            "Epoch 48/100\n",
            "46/46 [==============================] - 0s 5ms/step - loss: 0.2104 - accuracy: 0.9369 - val_loss: 0.1895 - val_accuracy: 0.9462\n",
            "Epoch 49/100\n",
            "46/46 [==============================] - 0s 5ms/step - loss: 0.2099 - accuracy: 0.9383 - val_loss: 0.1962 - val_accuracy: 0.9385\n",
            "Epoch 50/100\n",
            "46/46 [==============================] - 0s 6ms/step - loss: 0.2081 - accuracy: 0.9407 - val_loss: 0.1847 - val_accuracy: 0.9462\n",
            "Epoch 51/100\n",
            "46/46 [==============================] - 0s 5ms/step - loss: 0.2096 - accuracy: 0.9354 - val_loss: 0.1881 - val_accuracy: 0.9354\n",
            "Epoch 52/100\n",
            "46/46 [==============================] - 0s 5ms/step - loss: 0.2106 - accuracy: 0.9350 - val_loss: 0.1853 - val_accuracy: 0.9508\n",
            "Epoch 53/100\n",
            "46/46 [==============================] - 0s 5ms/step - loss: 0.2032 - accuracy: 0.9390 - val_loss: 0.2056 - val_accuracy: 0.9292\n",
            "Epoch 54/100\n",
            "46/46 [==============================] - 0s 5ms/step - loss: 0.2008 - accuracy: 0.9426 - val_loss: 0.1842 - val_accuracy: 0.9538\n",
            "Epoch 55/100\n",
            "46/46 [==============================] - 0s 5ms/step - loss: 0.2004 - accuracy: 0.9446 - val_loss: 0.1838 - val_accuracy: 0.9477\n",
            "Epoch 56/100\n",
            "46/46 [==============================] - 0s 5ms/step - loss: 0.2029 - accuracy: 0.9364 - val_loss: 0.1895 - val_accuracy: 0.9400\n",
            "Epoch 57/100\n",
            "46/46 [==============================] - 0s 5ms/step - loss: 0.1985 - accuracy: 0.9417 - val_loss: 0.1931 - val_accuracy: 0.9385\n",
            "Epoch 58/100\n",
            "46/46 [==============================] - 0s 5ms/step - loss: 0.1972 - accuracy: 0.9426 - val_loss: 0.1816 - val_accuracy: 0.9462\n",
            "Epoch 59/100\n",
            "46/46 [==============================] - 0s 5ms/step - loss: 0.1955 - accuracy: 0.9456 - val_loss: 0.1803 - val_accuracy: 0.9538\n",
            "Epoch 60/100\n",
            "46/46 [==============================] - 0s 5ms/step - loss: 0.1931 - accuracy: 0.9456 - val_loss: 0.1786 - val_accuracy: 0.9523\n",
            "Epoch 61/100\n",
            "46/46 [==============================] - 0s 5ms/step - loss: 0.1956 - accuracy: 0.9421 - val_loss: 0.1754 - val_accuracy: 0.9538\n",
            "Epoch 62/100\n",
            "46/46 [==============================] - 0s 5ms/step - loss: 0.1885 - accuracy: 0.9499 - val_loss: 0.1833 - val_accuracy: 0.9415\n",
            "Epoch 63/100\n",
            "46/46 [==============================] - 0s 5ms/step - loss: 0.1934 - accuracy: 0.9417 - val_loss: 0.1824 - val_accuracy: 0.9415\n",
            "Epoch 64/100\n",
            "46/46 [==============================] - 0s 5ms/step - loss: 0.1962 - accuracy: 0.9397 - val_loss: 0.1769 - val_accuracy: 0.9492\n",
            "Epoch 65/100\n",
            "46/46 [==============================] - 0s 5ms/step - loss: 0.1909 - accuracy: 0.9419 - val_loss: 0.1716 - val_accuracy: 0.9554\n",
            "Epoch 66/100\n",
            "46/46 [==============================] - 0s 5ms/step - loss: 0.1920 - accuracy: 0.9386 - val_loss: 0.1780 - val_accuracy: 0.9462\n",
            "Epoch 67/100\n",
            "46/46 [==============================] - 0s 5ms/step - loss: 0.1904 - accuracy: 0.9415 - val_loss: 0.1798 - val_accuracy: 0.9354\n",
            "Epoch 68/100\n",
            "46/46 [==============================] - 0s 5ms/step - loss: 0.1842 - accuracy: 0.9451 - val_loss: 0.1826 - val_accuracy: 0.9369\n",
            "Epoch 69/100\n",
            "46/46 [==============================] - 0s 5ms/step - loss: 0.1830 - accuracy: 0.9448 - val_loss: 0.1810 - val_accuracy: 0.9431\n",
            "Epoch 70/100\n",
            "46/46 [==============================] - 0s 5ms/step - loss: 0.1808 - accuracy: 0.9474 - val_loss: 0.1781 - val_accuracy: 0.9400\n",
            "Epoch 71/100\n",
            "46/46 [==============================] - 0s 5ms/step - loss: 0.1883 - accuracy: 0.9373 - val_loss: 0.1840 - val_accuracy: 0.9323\n",
            "Epoch 72/100\n",
            "46/46 [==============================] - 0s 5ms/step - loss: 0.1810 - accuracy: 0.9438 - val_loss: 0.1683 - val_accuracy: 0.9523\n",
            "Epoch 73/100\n",
            "46/46 [==============================] - 0s 5ms/step - loss: 0.1789 - accuracy: 0.9467 - val_loss: 0.1686 - val_accuracy: 0.9569\n",
            "Epoch 74/100\n",
            "46/46 [==============================] - 0s 5ms/step - loss: 0.1742 - accuracy: 0.9503 - val_loss: 0.1735 - val_accuracy: 0.9446\n",
            "Epoch 75/100\n",
            "46/46 [==============================] - 0s 5ms/step - loss: 0.1724 - accuracy: 0.9491 - val_loss: 0.1811 - val_accuracy: 0.9354\n",
            "Epoch 76/100\n",
            "46/46 [==============================] - 0s 5ms/step - loss: 0.1740 - accuracy: 0.9492 - val_loss: 0.1624 - val_accuracy: 0.9538\n",
            "Epoch 77/100\n",
            "46/46 [==============================] - 0s 5ms/step - loss: 0.1672 - accuracy: 0.9521 - val_loss: 0.1588 - val_accuracy: 0.9523\n",
            "Epoch 78/100\n",
            "46/46 [==============================] - 0s 5ms/step - loss: 0.1684 - accuracy: 0.9509 - val_loss: 0.1667 - val_accuracy: 0.9538\n",
            "Epoch 79/100\n",
            "46/46 [==============================] - 0s 5ms/step - loss: 0.1656 - accuracy: 0.9532 - val_loss: 0.1600 - val_accuracy: 0.9569\n",
            "Epoch 80/100\n",
            "46/46 [==============================] - 0s 5ms/step - loss: 0.1637 - accuracy: 0.9516 - val_loss: 0.1525 - val_accuracy: 0.9554\n",
            "Epoch 81/100\n",
            "46/46 [==============================] - 0s 5ms/step - loss: 0.1593 - accuracy: 0.9523 - val_loss: 0.1542 - val_accuracy: 0.9538\n",
            "Epoch 82/100\n",
            "46/46 [==============================] - 0s 5ms/step - loss: 0.1578 - accuracy: 0.9516 - val_loss: 0.1524 - val_accuracy: 0.9569\n",
            "Epoch 83/100\n",
            "46/46 [==============================] - 0s 5ms/step - loss: 0.1583 - accuracy: 0.9511 - val_loss: 0.1577 - val_accuracy: 0.9492\n",
            "Epoch 84/100\n",
            "46/46 [==============================] - 0s 5ms/step - loss: 0.1555 - accuracy: 0.9523 - val_loss: 0.1485 - val_accuracy: 0.9585\n",
            "Epoch 85/100\n",
            "46/46 [==============================] - 0s 5ms/step - loss: 0.1515 - accuracy: 0.9554 - val_loss: 0.1503 - val_accuracy: 0.9585\n",
            "Epoch 86/100\n",
            "46/46 [==============================] - 0s 5ms/step - loss: 0.1530 - accuracy: 0.9532 - val_loss: 0.1440 - val_accuracy: 0.9554\n",
            "Epoch 87/100\n",
            "46/46 [==============================] - 0s 9ms/step - loss: 0.1482 - accuracy: 0.9561 - val_loss: 0.1477 - val_accuracy: 0.9554\n",
            "Epoch 88/100\n",
            "46/46 [==============================] - 0s 7ms/step - loss: 0.1527 - accuracy: 0.9545 - val_loss: 0.1447 - val_accuracy: 0.9569\n",
            "Epoch 89/100\n",
            "46/46 [==============================] - 0s 8ms/step - loss: 0.1472 - accuracy: 0.9561 - val_loss: 0.1764 - val_accuracy: 0.9446\n",
            "Epoch 90/100\n",
            "46/46 [==============================] - 0s 8ms/step - loss: 0.1557 - accuracy: 0.9497 - val_loss: 0.1434 - val_accuracy: 0.9569\n",
            "Epoch 91/100\n",
            "46/46 [==============================] - 0s 7ms/step - loss: 0.1456 - accuracy: 0.9573 - val_loss: 0.1541 - val_accuracy: 0.9523\n",
            "Epoch 92/100\n",
            "46/46 [==============================] - 0s 8ms/step - loss: 0.1424 - accuracy: 0.9590 - val_loss: 0.1424 - val_accuracy: 0.9554\n",
            "Epoch 93/100\n",
            "46/46 [==============================] - 0s 7ms/step - loss: 0.1468 - accuracy: 0.9557 - val_loss: 0.1424 - val_accuracy: 0.9569\n",
            "Epoch 94/100\n",
            "46/46 [==============================] - 0s 7ms/step - loss: 0.1448 - accuracy: 0.9561 - val_loss: 0.1437 - val_accuracy: 0.9538\n",
            "Epoch 95/100\n",
            "46/46 [==============================] - 0s 7ms/step - loss: 0.1425 - accuracy: 0.9583 - val_loss: 0.1684 - val_accuracy: 0.9400\n",
            "Epoch 96/100\n",
            "46/46 [==============================] - 0s 8ms/step - loss: 0.1430 - accuracy: 0.9568 - val_loss: 0.1392 - val_accuracy: 0.9600\n",
            "Epoch 97/100\n",
            "46/46 [==============================] - 0s 7ms/step - loss: 0.1431 - accuracy: 0.9571 - val_loss: 0.1500 - val_accuracy: 0.9585\n",
            "Epoch 98/100\n",
            "46/46 [==============================] - 0s 7ms/step - loss: 0.1477 - accuracy: 0.9547 - val_loss: 0.1405 - val_accuracy: 0.9600\n",
            "Epoch 99/100\n",
            "46/46 [==============================] - 0s 5ms/step - loss: 0.1389 - accuracy: 0.9588 - val_loss: 0.1390 - val_accuracy: 0.9569\n",
            "Epoch 100/100\n",
            "46/46 [==============================] - 0s 5ms/step - loss: 0.1416 - accuracy: 0.9574 - val_loss: 0.1443 - val_accuracy: 0.9477\n"
          ]
        }
      ]
    },
    {
      "cell_type": "code",
      "source": [
        "model.summary()"
      ],
      "metadata": {
        "id": "a9drHaPCzX7y",
        "colab": {
          "base_uri": "https://localhost:8080/"
        },
        "outputId": "f52dc29d-7f95-4657-bd03-5448f3caa7cd"
      },
      "execution_count": 15,
      "outputs": [
        {
          "output_type": "stream",
          "name": "stdout",
          "text": [
            "Model: \"sequential\"\n",
            "_________________________________________________________________\n",
            " Layer (type)                Output Shape              Param #   \n",
            "=================================================================\n",
            " dense (Dense)               (None, 64)                512       \n",
            "                                                                 \n",
            " dense_1 (Dense)             (None, 32)                2080      \n",
            "                                                                 \n",
            " dense_2 (Dense)             (None, 16)                528       \n",
            "                                                                 \n",
            " dense_3 (Dense)             (None, 8)                 136       \n",
            "                                                                 \n",
            " dense_4 (Dense)             (None, 1)                 9         \n",
            "                                                                 \n",
            "=================================================================\n",
            "Total params: 3,265\n",
            "Trainable params: 3,265\n",
            "Non-trainable params: 0\n",
            "_________________________________________________________________\n"
          ]
        }
      ]
    },
    {
      "cell_type": "code",
      "source": [
        "model.predict(np.array([[0,\t56,\t2.9,\t50,\t11,\t90,\t1\t]]))"
      ],
      "metadata": {
        "id": "4sbTnrW8QpIa",
        "colab": {
          "base_uri": "https://localhost:8080/"
        },
        "outputId": "deb209cb-3152-48ee-d73d-92e1461afd0c"
      },
      "execution_count": 16,
      "outputs": [
        {
          "output_type": "stream",
          "name": "stdout",
          "text": [
            "1/1 [==============================] - 0s 86ms/step\n"
          ]
        },
        {
          "output_type": "execute_result",
          "data": {
            "text/plain": [
              "array([[0.9994123]], dtype=float32)"
            ]
          },
          "metadata": {},
          "execution_count": 16
        }
      ]
    },
    {
      "cell_type": "markdown",
      "source": [
        "## **Model Evaluation**"
      ],
      "metadata": {
        "id": "ngN3IkUCDyCo"
      }
    },
    {
      "cell_type": "code",
      "source": [
        "# Make predictions on the test set\n",
        "y_pred = model.predict(X_test)\n",
        "\n",
        "# Convert continuous variable to binary labels\n",
        "threshold = 0.5\n",
        "y_pred_binary = (y_pred >= threshold).astype(int)\n",
        "\n",
        "# Create the confusion matrix\n",
        "confusion = confusion_matrix(y_pred_binary, y_test)\n",
        "\n",
        "# Create a heatmap of the confusion matrix\n",
        "sns.heatmap(confusion, annot=True, cmap=\"Blues\", fmt=\"d\")\n",
        "\n",
        "# Set the axis labels\n",
        "plt.xlabel(\"Predicted Labels\")\n",
        "plt.ylabel(\"True Labels\")\n",
        "\n",
        "# Set the title\n",
        "plt.title(\"Confusion Matrix\")\n",
        "\n",
        "# Display the plot\n",
        "plt.show()"
      ],
      "metadata": {
        "id": "ANIxQZ4NSKFx",
        "colab": {
          "base_uri": "https://localhost:8080/",
          "height": 489
        },
        "outputId": "f6826765-91cd-41af-b848-d925afa90fea"
      },
      "execution_count": 17,
      "outputs": [
        {
          "output_type": "stream",
          "name": "stdout",
          "text": [
            "21/21 [==============================] - 0s 2ms/step\n"
          ]
        },
        {
          "output_type": "display_data",
          "data": {
            "text/plain": [
              "<Figure size 640x480 with 2 Axes>"
            ],
            "image/png": "[encoded data removed]"
          },
          "metadata": {}
        }
      ]
    },
    {
      "cell_type": "code",
      "source": [
        "# Retrieve a list of list results on training and test data\n",
        "# sets for each training epoch\n",
        "acc = history.history['accuracy']\n",
        "val_acc = history.history['val_accuracy']\n",
        "loss = history.history['loss']\n",
        "val_loss = history.history['val_loss']\n",
        "\n",
        "epochs = range(len(acc))  # Get number of epochs\n",
        "\n",
        "# Plot training and validation accuracy per epoch\n",
        "plt.plot(epochs, acc, 'r', label=\"Training Accuracy\")\n",
        "plt.plot(epochs, val_acc, 'b', label=\"Validation Accuracy\")\n",
        "plt.title('Training and validation accuracy')\n",
        "plt.legend()  # Add legend to the plot\n",
        "plt.show()\n",
        "print(\"\")\n",
        "\n",
        "# Plot training and validation loss per epoch\n",
        "plt.plot(epochs, loss, 'r', label=\"Training Loss\")\n",
        "plt.plot(epochs, val_loss, 'b', label=\"Validation Loss\")\n",
        "plt.title('Training and validation loss')\n",
        "plt.legend()  # Add legend to the plot\n",
        "plt.show()\n"
      ],
      "metadata": {
        "id": "mEX8XrJ6Dtso",
        "colab": {
          "base_uri": "https://localhost:8080/",
          "height": 904
        },
        "outputId": "0f07f007-fa2e-45d4-c36c-366851175861"
      },
      "execution_count": 18,
      "outputs": [
        {
          "output_type": "display_data",
          "data": {
            "text/plain": [
              "<Figure size 640x480 with 1 Axes>"
            ],
            "image/png": "[encoded data removed]"
          },
          "metadata": {}
        },
        {
          "output_type": "stream",
          "name": "stdout",
          "text": [
            "\n"
          ]
        },
        {
          "output_type": "display_data",
          "data": {
            "text/plain": [
              "<Figure size 640x480 with 1 Axes>"
            ],
            "image/png": "[encoded data removed]"
          },
          "metadata": {}
        }
      ]
    },
    {
      "cell_type": "code",
      "source": [
        "# Calculate precision, recall, and F1 score\n",
        "precision = precision_score(y_test, y_pred_binary)\n",
        "recall = recall_score(y_test, y_pred_binary)\n",
        "f1 = f1_score(y_test, y_pred_binary)\n",
        "\n",
        "# Generate classification report\n",
        "report = classification_report(y_test, y_pred_binary)\n",
        "\n",
        "# Print the metrics report\n",
        "print(\"Precision:\", precision)\n",
        "print(\"Recall:\", recall)\n",
        "print(\"F1 Score:\", f1)\n",
        "print(\"Classification Report:\\n\", report)"
      ],
      "metadata": {
        "colab": {
          "base_uri": "https://localhost:8080/"
        },
        "id": "wWl0oH-w9xDU",
        "outputId": "74236c6b-24d0-423d-b991-f824df7f88ff"
      },
      "execution_count": 19,
      "outputs": [
        {
          "output_type": "stream",
          "name": "stdout",
          "text": [
            "Precision: 0.9546827794561934\n",
            "Recall: 0.9432835820895522\n",
            "F1 Score: 0.948948948948949\n",
            "Classification Report:\n",
            "               precision    recall  f1-score   support\n",
            "\n",
            "           0       0.94      0.95      0.95       315\n",
            "           1       0.95      0.94      0.95       335\n",
            "\n",
            "    accuracy                           0.95       650\n",
            "   macro avg       0.95      0.95      0.95       650\n",
            "weighted avg       0.95      0.95      0.95       650\n",
            "\n"
          ]
        }
      ]
    },
    {
      "cell_type": "markdown",
      "source": [
        "## **Save Model**"
      ],
      "metadata": {
        "id": "4W9scfz_IOMz"
      }
    },
    {
      "cell_type": "code",
      "source": [
        "# Save your model\n",
        "model.save('saved_model')"
      ],
      "metadata": {
        "id": "mL7IZruCINuE"
      },
      "execution_count": 20,
      "outputs": []
    },
    {
      "cell_type": "code",
      "source": [
        "# Save your model\n",
        "model.save('model.h5')"
      ],
      "metadata": {
        "id": "BYo0W0ogHhf7"
      },
      "execution_count": 21,
      "outputs": []
    },
    {
      "cell_type": "markdown",
      "source": [
        "## **Export the Model**"
      ],
      "metadata": {
        "id": "-KQquq5tVzSk"
      }
    },
    {
      "cell_type": "code",
      "source": [
        "# Convert the SavedModel to TFLite format with optimizations\n",
        "converter = tf.lite.TFLiteConverter.from_saved_model('saved_model')\n",
        "converter.optimizations = [tf.lite.Optimize.DEFAULT]  # Apply default optimizations\n",
        "tflite_model = converter.convert()\n",
        "\n",
        "# Save the TFLite model to a file\n",
        "with open('model.tflite', 'wb') as f:\n",
        "    f.write(tflite_model)\n"
      ],
      "metadata": {
        "id": "XoSCcHcZKAcv"
      },
      "execution_count": 22,
      "outputs": []
    },
    {
      "cell_type": "code",
      "source": [],
      "metadata": {
        "id": "PVWHIiGg9RWW"
      },
      "execution_count": 22,
      "outputs": []
    }
  ]
}