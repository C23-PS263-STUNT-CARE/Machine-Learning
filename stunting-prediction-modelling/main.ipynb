{
  "nbformat": 4,
  "nbformat_minor": 0,
  "metadata": {
    "colab": {
      "provenance": [],
      "gpuType": "T4"
    },
    "kernelspec": {
      "name": "python3",
      "display_name": "Python 3"
    },
    "language_info": {
      "name": "python"
    },
    "accelerator": "GPU",
    "gpuClass": "standard"
  },
  "cells": [
    {
      "cell_type": "markdown",
      "source": [
        "## **Import Library and Dataset**"
      ],
      "metadata": {
        "id": "EwVSr7SxGCKx"
      }
    },
    {
      "cell_type": "code",
      "execution_count": 1,
      "metadata": {
        "id": "WtI5BUEJNpVI"
      },
      "outputs": [],
      "source": [
        "#Import Library\n",
        "import numpy as np\n",
        "import tensorflow as tf\n",
        "import pandas as pd\n",
        "import matplotlib.pyplot as plt\n",
        "from tensorflow import keras\n",
        "from sklearn.model_selection import train_test_split\n",
        "from sklearn.metrics import confusion_matrix\n",
        "from sklearn.preprocessing import MinMaxScaler\n",
        "import seaborn as sns"
      ]
    },
    {
      "cell_type": "code",
      "source": [
        "from google.colab import drive\n",
        "drive.mount('/content/drive')"
      ],
      "metadata": {
        "colab": {
          "base_uri": "https://localhost:8080/"
        },
        "id": "hgfou0OoXer5",
        "outputId": "226701ca-7e74-4860-ffb8-87dafbb3fe78"
      },
      "execution_count": 2,
      "outputs": [
        {
          "output_type": "stream",
          "name": "stdout",
          "text": [
            "Mounted at /content/drive\n"
          ]
        }
      ]
    },
    {
      "cell_type": "markdown",
      "source": [
        "## **Data Preprocessing**"
      ],
      "metadata": {
        "id": "0tuSJ3N5KC9F"
      }
    },
    {
      "cell_type": "code",
      "source": [
        "# Read the data in the XLSX file using pandas\n",
        "file_path = '/content/drive/Shareddrives/Product_Base_Capstone/Machine_Learning/Dataset/Stunting Dataset.xlsx'\n",
        "df = pd.read_excel(file_path)"
      ],
      "metadata": {
        "id": "Rb-HGLsfolqW"
      },
      "execution_count": 3,
      "outputs": []
    },
    {
      "cell_type": "code",
      "source": [
        "#Display Information of dataset\n",
        "df"
      ],
      "metadata": {
        "colab": {
          "base_uri": "https://localhost:8080/",
          "height": 423
        },
        "id": "rsEVKTnsJ1jZ",
        "outputId": "16f3293f-73f0-412b-ebb9-ae32ae769e03"
      },
      "execution_count": 4,
      "outputs": [
        {
          "output_type": "execute_result",
          "data": {
            "text/plain": [
              "     Sex  Age  Birth Weight  Birth Length  Body Weight  Body Length  \\\n",
              "0      F   56           2.9            50         11.0         90.0   \n",
              "1      F   20           3.3            49         11.1         80.5   \n",
              "2      M    4           2.8            48          6.5         63.0   \n",
              "3      F   14           2.0            49          7.0         71.0   \n",
              "4      M   32           3.2            49         11.0         88.7   \n",
              "...   ..  ...           ...           ...          ...          ...   \n",
              "6495   M   53           2.9            49         15.0         96.0   \n",
              "6496   M    9           2.9            50          7.3         62.0   \n",
              "6497   F   20           1.8            48          7.3         73.0   \n",
              "6498   M   11           2.9            49          7.7         66.0   \n",
              "6499   F   14           2.9            49          6.5         66.0   \n",
              "\n",
              "     ASI Eksklusif Stunting  \n",
              "0              Yes       No  \n",
              "1               No       No  \n",
              "2               No       No  \n",
              "3              Yes       No  \n",
              "4              Yes       No  \n",
              "...            ...      ...  \n",
              "6495            No      Yes  \n",
              "6496            No      Yes  \n",
              "6497           Yes      Yes  \n",
              "6498            No      Yes  \n",
              "6499            No      Yes  \n",
              "\n",
              "[6500 rows x 8 columns]"
            ],
            "text/html": [
              "\n",
              "  <div id=\"df-d6e3370d-4401-4b86-96b5-4f94851735dd\">\n",
              "    <div class=\"colab-df-container\">\n",
              "      <div>\n",
              "<style scoped>\n",
              "    .dataframe tbody tr th:only-of-type {\n",
              "        vertical-align: middle;\n",
              "    }\n",
              "\n",
              "    .dataframe tbody tr th {\n",
              "        vertical-align: top;\n",
              "    }\n",
              "\n",
              "    .dataframe thead th {\n",
              "        text-align: right;\n",
              "    }\n",
              "</style>\n",
              "<table border=\"1\" class=\"dataframe\">\n",
              "  <thead>\n",
              "    <tr style=\"text-align: right;\">\n",
              "      <th></th>\n",
              "      <th>Sex</th>\n",
              "      <th>Age</th>\n",
              "      <th>Birth Weight</th>\n",
              "      <th>Birth Length</th>\n",
              "      <th>Body Weight</th>\n",
              "      <th>Body Length</th>\n",
              "      <th>ASI Eksklusif</th>\n",
              "      <th>Stunting</th>\n",
              "    </tr>\n",
              "  </thead>\n",
              "  <tbody>\n",
              "    <tr>\n",
              "      <th>0</th>\n",
              "      <td>F</td>\n",
              "      <td>56</td>\n",
              "      <td>2.9</td>\n",
              "      <td>50</td>\n",
              "      <td>11.0</td>\n",
              "      <td>90.0</td>\n",
              "      <td>Yes</td>\n",
              "      <td>No</td>\n",
              "    </tr>\n",
              "    <tr>\n",
              "      <th>1</th>\n",
              "      <td>F</td>\n",
              "      <td>20</td>\n",
              "      <td>3.3</td>\n",
              "      <td>49</td>\n",
              "      <td>11.1</td>\n",
              "      <td>80.5</td>\n",
              "      <td>No</td>\n",
              "      <td>No</td>\n",
              "    </tr>\n",
              "    <tr>\n",
              "      <th>2</th>\n",
              "      <td>M</td>\n",
              "      <td>4</td>\n",
              "      <td>2.8</td>\n",
              "      <td>48</td>\n",
              "      <td>6.5</td>\n",
              "      <td>63.0</td>\n",
              "      <td>No</td>\n",
              "      <td>No</td>\n",
              "    </tr>\n",
              "    <tr>\n",
              "      <th>3</th>\n",
              "      <td>F</td>\n",
              "      <td>14</td>\n",
              "      <td>2.0</td>\n",
              "      <td>49</td>\n",
              "      <td>7.0</td>\n",
              "      <td>71.0</td>\n",
              "      <td>Yes</td>\n",
              "      <td>No</td>\n",
              "    </tr>\n",
              "    <tr>\n",
              "      <th>4</th>\n",
              "      <td>M</td>\n",
              "      <td>32</td>\n",
              "      <td>3.2</td>\n",
              "      <td>49</td>\n",
              "      <td>11.0</td>\n",
              "      <td>88.7</td>\n",
              "      <td>Yes</td>\n",
              "      <td>No</td>\n",
              "    </tr>\n",
              "    <tr>\n",
              "      <th>...</th>\n",
              "      <td>...</td>\n",
              "      <td>...</td>\n",
              "      <td>...</td>\n",
              "      <td>...</td>\n",
              "      <td>...</td>\n",
              "      <td>...</td>\n",
              "      <td>...</td>\n",
              "      <td>...</td>\n",
              "    </tr>\n",
              "    <tr>\n",
              "      <th>6495</th>\n",
              "      <td>M</td>\n",
              "      <td>53</td>\n",
              "      <td>2.9</td>\n",
              "      <td>49</td>\n",
              "      <td>15.0</td>\n",
              "      <td>96.0</td>\n",
              "      <td>No</td>\n",
              "      <td>Yes</td>\n",
              "    </tr>\n",
              "    <tr>\n",
              "      <th>6496</th>\n",
              "      <td>M</td>\n",
              "      <td>9</td>\n",
              "      <td>2.9</td>\n",
              "      <td>50</td>\n",
              "      <td>7.3</td>\n",
              "      <td>62.0</td>\n",
              "      <td>No</td>\n",
              "      <td>Yes</td>\n",
              "    </tr>\n",
              "    <tr>\n",
              "      <th>6497</th>\n",
              "      <td>F</td>\n",
              "      <td>20</td>\n",
              "      <td>1.8</td>\n",
              "      <td>48</td>\n",
              "      <td>7.3</td>\n",
              "      <td>73.0</td>\n",
              "      <td>Yes</td>\n",
              "      <td>Yes</td>\n",
              "    </tr>\n",
              "    <tr>\n",
              "      <th>6498</th>\n",
              "      <td>M</td>\n",
              "      <td>11</td>\n",
              "      <td>2.9</td>\n",
              "      <td>49</td>\n",
              "      <td>7.7</td>\n",
              "      <td>66.0</td>\n",
              "      <td>No</td>\n",
              "      <td>Yes</td>\n",
              "    </tr>\n",
              "    <tr>\n",
              "      <th>6499</th>\n",
              "      <td>F</td>\n",
              "      <td>14</td>\n",
              "      <td>2.9</td>\n",
              "      <td>49</td>\n",
              "      <td>6.5</td>\n",
              "      <td>66.0</td>\n",
              "      <td>No</td>\n",
              "      <td>Yes</td>\n",
              "    </tr>\n",
              "  </tbody>\n",
              "</table>\n",
              "<p>6500 rows × 8 columns</p>\n",
              "</div>\n",
              "      <button class=\"colab-df-convert\" onclick=\"convertToInteractive('df-d6e3370d-4401-4b86-96b5-4f94851735dd')\"\n",
              "              title=\"Convert this dataframe to an interactive table.\"\n",
              "              style=\"display:none;\">\n",
              "        \n",
              "  <svg xmlns=\"http://www.w3.org/2000/svg\" height=\"24px\"viewBox=\"0 0 24 24\"\n",
              "       width=\"24px\">\n",
              "    <path d=\"M0 0h24v24H0V0z\" fill=\"none\"/>\n",
              "    <path d=\"M18.56 5.44l.94 2.06.94-2.06 2.06-.94-2.06-.94-.94-2.06-.94 2.06-2.06.94zm-11 1L8.5 8.5l.94-2.06 2.06-.94-2.06-.94L8.5 2.5l-.94 2.06-2.06.94zm10 10l.94 2.06.94-2.06 2.06-.94-2.06-.94-.94-2.06-.94 2.06-2.06.94z\"/><path d=\"M17.41 7.96l-1.37-1.37c-.4-.4-.92-.59-1.43-.59-.52 0-1.04.2-1.43.59L10.3 9.45l-7.72 7.72c-.78.78-.78 2.05 0 2.83L4 21.41c.39.39.9.59 1.41.59.51 0 1.02-.2 1.41-.59l7.78-7.78 2.81-2.81c.8-.78.8-2.07 0-2.86zM5.41 20L4 18.59l7.72-7.72 1.47 1.35L5.41 20z\"/>\n",
              "  </svg>\n",
              "      </button>\n",
              "      \n",
              "  <style>\n",
              "    .colab-df-container {\n",
              "      display:flex;\n",
              "      flex-wrap:wrap;\n",
              "      gap: 12px;\n",
              "    }\n",
              "\n",
              "    .colab-df-convert {\n",
              "      background-color: #E8F0FE;\n",
              "      border: none;\n",
              "      border-radius: 50%;\n",
              "      cursor: pointer;\n",
              "      display: none;\n",
              "      fill: #1967D2;\n",
              "      height: 32px;\n",
              "      padding: 0 0 0 0;\n",
              "      width: 32px;\n",
              "    }\n",
              "\n",
              "    .colab-df-convert:hover {\n",
              "      background-color: #E2EBFA;\n",
              "      box-shadow: 0px 1px 2px rgba(60, 64, 67, 0.3), 0px 1px 3px 1px rgba(60, 64, 67, 0.15);\n",
              "      fill: #174EA6;\n",
              "    }\n",
              "\n",
              "    [theme=dark] .colab-df-convert {\n",
              "      background-color: #3B4455;\n",
              "      fill: #D2E3FC;\n",
              "    }\n",
              "\n",
              "    [theme=dark] .colab-df-convert:hover {\n",
              "      background-color: #434B5C;\n",
              "      box-shadow: 0px 1px 3px 1px rgba(0, 0, 0, 0.15);\n",
              "      filter: drop-shadow(0px 1px 2px rgba(0, 0, 0, 0.3));\n",
              "      fill: #FFFFFF;\n",
              "    }\n",
              "  </style>\n",
              "\n",
              "      <script>\n",
              "        const buttonEl =\n",
              "          document.querySelector('#df-d6e3370d-4401-4b86-96b5-4f94851735dd button.colab-df-convert');\n",
              "        buttonEl.style.display =\n",
              "          google.colab.kernel.accessAllowed ? 'block' : 'none';\n",
              "\n",
              "        async function convertToInteractive(key) {\n",
              "          const element = document.querySelector('#df-d6e3370d-4401-4b86-96b5-4f94851735dd');\n",
              "          const dataTable =\n",
              "            await google.colab.kernel.invokeFunction('convertToInteractive',\n",
              "                                                     [key], {});\n",
              "          if (!dataTable) return;\n",
              "\n",
              "          const docLinkHtml = 'Like what you see? Visit the ' +\n",
              "            '<a target=\"_blank\" href=https://colab.research.google.com/notebooks/data_table.ipynb>data table notebook</a>'\n",
              "            + ' to learn more about interactive tables.';\n",
              "          element.innerHTML = '';\n",
              "          dataTable['output_type'] = 'display_data';\n",
              "          await google.colab.output.renderOutput(dataTable, element);\n",
              "          const docLink = document.createElement('div');\n",
              "          docLink.innerHTML = docLinkHtml;\n",
              "          element.appendChild(docLink);\n",
              "        }\n",
              "      </script>\n",
              "    </div>\n",
              "  </div>\n",
              "  "
            ]
          },
          "metadata": {},
          "execution_count": 4
        }
      ]
    },
    {
      "cell_type": "code",
      "source": [
        "#Finding Missing Data\n",
        "df.isnull().sum()"
      ],
      "metadata": {
        "colab": {
          "base_uri": "https://localhost:8080/"
        },
        "id": "BchaZ8T-V1AB",
        "outputId": "1e3821bf-66c8-431f-a7f6-81e064a040ad"
      },
      "execution_count": 5,
      "outputs": [
        {
          "output_type": "execute_result",
          "data": {
            "text/plain": [
              "Sex              0\n",
              "Age              0\n",
              "Birth Weight     0\n",
              "Birth Length     0\n",
              "Body Weight      0\n",
              "Body Length      0\n",
              "ASI Eksklusif    0\n",
              "Stunting         0\n",
              "dtype: int64"
            ]
          },
          "metadata": {},
          "execution_count": 5
        }
      ]
    },
    {
      "cell_type": "code",
      "source": [
        "#Counting Stunting Case for each case\n",
        "df['Stunting'].value_counts()"
      ],
      "metadata": {
        "colab": {
          "base_uri": "https://localhost:8080/"
        },
        "id": "rkHNfWx78TYR",
        "outputId": "fde51713-0ba7-4a12-959f-2f28605e1732"
      },
      "execution_count": 6,
      "outputs": [
        {
          "output_type": "execute_result",
          "data": {
            "text/plain": [
              "Yes    3312\n",
              "No     3188\n",
              "Name: Stunting, dtype: int64"
            ]
          },
          "metadata": {},
          "execution_count": 6
        }
      ]
    },
    {
      "cell_type": "code",
      "source": [
        "#Display Information of Dataset\n",
        "df.info()"
      ],
      "metadata": {
        "colab": {
          "base_uri": "https://localhost:8080/"
        },
        "id": "phmG5Tw4VlHd",
        "outputId": "7bb6a4c5-f381-40c7-acb5-e223174565fe"
      },
      "execution_count": 7,
      "outputs": [
        {
          "output_type": "stream",
          "name": "stdout",
          "text": [
            "<class 'pandas.core.frame.DataFrame'>\n",
            "RangeIndex: 6500 entries, 0 to 6499\n",
            "Data columns (total 8 columns):\n",
            " #   Column         Non-Null Count  Dtype  \n",
            "---  ------         --------------  -----  \n",
            " 0   Sex            6500 non-null   object \n",
            " 1   Age            6500 non-null   int64  \n",
            " 2   Birth Weight   6500 non-null   float64\n",
            " 3   Birth Length   6500 non-null   int64  \n",
            " 4   Body Weight    6500 non-null   float64\n",
            " 5   Body Length    6500 non-null   float64\n",
            " 6   ASI Eksklusif  6500 non-null   object \n",
            " 7   Stunting       6500 non-null   object \n",
            "dtypes: float64(3), int64(2), object(3)\n",
            "memory usage: 406.4+ KB\n"
          ]
        }
      ]
    },
    {
      "cell_type": "code",
      "source": [
        "#Checking the Dimension of dataset\n",
        "df.shape"
      ],
      "metadata": {
        "colab": {
          "base_uri": "https://localhost:8080/"
        },
        "id": "R0isNoopJ6oK",
        "outputId": "507d6751-ffe5-47c9-ab64-284aceae0760"
      },
      "execution_count": 8,
      "outputs": [
        {
          "output_type": "execute_result",
          "data": {
            "text/plain": [
              "(6500, 8)"
            ]
          },
          "metadata": {},
          "execution_count": 8
        }
      ]
    },
    {
      "cell_type": "code",
      "source": [
        "# Make dictionary for label encoding\n",
        "sex_encoding = {'M': 1, 'F': 0}\n",
        "asi_encoding = {'No': 0, 'Yes': 1}\n",
        "stunting_encoding = {'No': 0, 'Yes': 1}\n",
        "\n",
        "# Doing label encoding using map method\n",
        "df['Sex'] = df['Sex'].map(sex_encoding)\n",
        "df['ASI Eksklusif'] = df['ASI Eksklusif'].map(asi_encoding)\n",
        "df['Stunting'] = df['Stunting'].map(stunting_encoding)\n",
        "\n",
        "df"
      ],
      "metadata": {
        "colab": {
          "base_uri": "https://localhost:8080/",
          "height": 423
        },
        "id": "uczylmLapVZg",
        "outputId": "f0da9578-c610-4a5f-8b26-6d82000f0da5"
      },
      "execution_count": 9,
      "outputs": [
        {
          "output_type": "execute_result",
          "data": {
            "text/plain": [
              "      Sex  Age  Birth Weight  Birth Length  Body Weight  Body Length  \\\n",
              "0       0   56           2.9            50         11.0         90.0   \n",
              "1       0   20           3.3            49         11.1         80.5   \n",
              "2       1    4           2.8            48          6.5         63.0   \n",
              "3       0   14           2.0            49          7.0         71.0   \n",
              "4       1   32           3.2            49         11.0         88.7   \n",
              "...   ...  ...           ...           ...          ...          ...   \n",
              "6495    1   53           2.9            49         15.0         96.0   \n",
              "6496    1    9           2.9            50          7.3         62.0   \n",
              "6497    0   20           1.8            48          7.3         73.0   \n",
              "6498    1   11           2.9            49          7.7         66.0   \n",
              "6499    0   14           2.9            49          6.5         66.0   \n",
              "\n",
              "      ASI Eksklusif  Stunting  \n",
              "0                 1         0  \n",
              "1                 0         0  \n",
              "2                 0         0  \n",
              "3                 1         0  \n",
              "4                 1         0  \n",
              "...             ...       ...  \n",
              "6495              0         1  \n",
              "6496              0         1  \n",
              "6497              1         1  \n",
              "6498              0         1  \n",
              "6499              0         1  \n",
              "\n",
              "[6500 rows x 8 columns]"
            ],
            "text/html": [
              "\n",
              "  <div id=\"df-e53da96c-1d62-4106-a2fa-1b22b08f3134\">\n",
              "    <div class=\"colab-df-container\">\n",
              "      <div>\n",
              "<style scoped>\n",
              "    .dataframe tbody tr th:only-of-type {\n",
              "        vertical-align: middle;\n",
              "    }\n",
              "\n",
              "    .dataframe tbody tr th {\n",
              "        vertical-align: top;\n",
              "    }\n",
              "\n",
              "    .dataframe thead th {\n",
              "        text-align: right;\n",
              "    }\n",
              "</style>\n",
              "<table border=\"1\" class=\"dataframe\">\n",
              "  <thead>\n",
              "    <tr style=\"text-align: right;\">\n",
              "      <th></th>\n",
              "      <th>Sex</th>\n",
              "      <th>Age</th>\n",
              "      <th>Birth Weight</th>\n",
              "      <th>Birth Length</th>\n",
              "      <th>Body Weight</th>\n",
              "      <th>Body Length</th>\n",
              "      <th>ASI Eksklusif</th>\n",
              "      <th>Stunting</th>\n",
              "    </tr>\n",
              "  </thead>\n",
              "  <tbody>\n",
              "    <tr>\n",
              "      <th>0</th>\n",
              "      <td>0</td>\n",
              "      <td>56</td>\n",
              "      <td>2.9</td>\n",
              "      <td>50</td>\n",
              "      <td>11.0</td>\n",
              "      <td>90.0</td>\n",
              "      <td>1</td>\n",
              "      <td>0</td>\n",
              "    </tr>\n",
              "    <tr>\n",
              "      <th>1</th>\n",
              "      <td>0</td>\n",
              "      <td>20</td>\n",
              "      <td>3.3</td>\n",
              "      <td>49</td>\n",
              "      <td>11.1</td>\n",
              "      <td>80.5</td>\n",
              "      <td>0</td>\n",
              "      <td>0</td>\n",
              "    </tr>\n",
              "    <tr>\n",
              "      <th>2</th>\n",
              "      <td>1</td>\n",
              "      <td>4</td>\n",
              "      <td>2.8</td>\n",
              "      <td>48</td>\n",
              "      <td>6.5</td>\n",
              "      <td>63.0</td>\n",
              "      <td>0</td>\n",
              "      <td>0</td>\n",
              "    </tr>\n",
              "    <tr>\n",
              "      <th>3</th>\n",
              "      <td>0</td>\n",
              "      <td>14</td>\n",
              "      <td>2.0</td>\n",
              "      <td>49</td>\n",
              "      <td>7.0</td>\n",
              "      <td>71.0</td>\n",
              "      <td>1</td>\n",
              "      <td>0</td>\n",
              "    </tr>\n",
              "    <tr>\n",
              "      <th>4</th>\n",
              "      <td>1</td>\n",
              "      <td>32</td>\n",
              "      <td>3.2</td>\n",
              "      <td>49</td>\n",
              "      <td>11.0</td>\n",
              "      <td>88.7</td>\n",
              "      <td>1</td>\n",
              "      <td>0</td>\n",
              "    </tr>\n",
              "    <tr>\n",
              "      <th>...</th>\n",
              "      <td>...</td>\n",
              "      <td>...</td>\n",
              "      <td>...</td>\n",
              "      <td>...</td>\n",
              "      <td>...</td>\n",
              "      <td>...</td>\n",
              "      <td>...</td>\n",
              "      <td>...</td>\n",
              "    </tr>\n",
              "    <tr>\n",
              "      <th>6495</th>\n",
              "      <td>1</td>\n",
              "      <td>53</td>\n",
              "      <td>2.9</td>\n",
              "      <td>49</td>\n",
              "      <td>15.0</td>\n",
              "      <td>96.0</td>\n",
              "      <td>0</td>\n",
              "      <td>1</td>\n",
              "    </tr>\n",
              "    <tr>\n",
              "      <th>6496</th>\n",
              "      <td>1</td>\n",
              "      <td>9</td>\n",
              "      <td>2.9</td>\n",
              "      <td>50</td>\n",
              "      <td>7.3</td>\n",
              "      <td>62.0</td>\n",
              "      <td>0</td>\n",
              "      <td>1</td>\n",
              "    </tr>\n",
              "    <tr>\n",
              "      <th>6497</th>\n",
              "      <td>0</td>\n",
              "      <td>20</td>\n",
              "      <td>1.8</td>\n",
              "      <td>48</td>\n",
              "      <td>7.3</td>\n",
              "      <td>73.0</td>\n",
              "      <td>1</td>\n",
              "      <td>1</td>\n",
              "    </tr>\n",
              "    <tr>\n",
              "      <th>6498</th>\n",
              "      <td>1</td>\n",
              "      <td>11</td>\n",
              "      <td>2.9</td>\n",
              "      <td>49</td>\n",
              "      <td>7.7</td>\n",
              "      <td>66.0</td>\n",
              "      <td>0</td>\n",
              "      <td>1</td>\n",
              "    </tr>\n",
              "    <tr>\n",
              "      <th>6499</th>\n",
              "      <td>0</td>\n",
              "      <td>14</td>\n",
              "      <td>2.9</td>\n",
              "      <td>49</td>\n",
              "      <td>6.5</td>\n",
              "      <td>66.0</td>\n",
              "      <td>0</td>\n",
              "      <td>1</td>\n",
              "    </tr>\n",
              "  </tbody>\n",
              "</table>\n",
              "<p>6500 rows × 8 columns</p>\n",
              "</div>\n",
              "      <button class=\"colab-df-convert\" onclick=\"convertToInteractive('df-e53da96c-1d62-4106-a2fa-1b22b08f3134')\"\n",
              "              title=\"Convert this dataframe to an interactive table.\"\n",
              "              style=\"display:none;\">\n",
              "        \n",
              "  <svg xmlns=\"http://www.w3.org/2000/svg\" height=\"24px\"viewBox=\"0 0 24 24\"\n",
              "       width=\"24px\">\n",
              "    <path d=\"M0 0h24v24H0V0z\" fill=\"none\"/>\n",
              "    <path d=\"M18.56 5.44l.94 2.06.94-2.06 2.06-.94-2.06-.94-.94-2.06-.94 2.06-2.06.94zm-11 1L8.5 8.5l.94-2.06 2.06-.94-2.06-.94L8.5 2.5l-.94 2.06-2.06.94zm10 10l.94 2.06.94-2.06 2.06-.94-2.06-.94-.94-2.06-.94 2.06-2.06.94z\"/><path d=\"M17.41 7.96l-1.37-1.37c-.4-.4-.92-.59-1.43-.59-.52 0-1.04.2-1.43.59L10.3 9.45l-7.72 7.72c-.78.78-.78 2.05 0 2.83L4 21.41c.39.39.9.59 1.41.59.51 0 1.02-.2 1.41-.59l7.78-7.78 2.81-2.81c.8-.78.8-2.07 0-2.86zM5.41 20L4 18.59l7.72-7.72 1.47 1.35L5.41 20z\"/>\n",
              "  </svg>\n",
              "      </button>\n",
              "      \n",
              "  <style>\n",
              "    .colab-df-container {\n",
              "      display:flex;\n",
              "      flex-wrap:wrap;\n",
              "      gap: 12px;\n",
              "    }\n",
              "\n",
              "    .colab-df-convert {\n",
              "      background-color: #E8F0FE;\n",
              "      border: none;\n",
              "      border-radius: 50%;\n",
              "      cursor: pointer;\n",
              "      display: none;\n",
              "      fill: #1967D2;\n",
              "      height: 32px;\n",
              "      padding: 0 0 0 0;\n",
              "      width: 32px;\n",
              "    }\n",
              "\n",
              "    .colab-df-convert:hover {\n",
              "      background-color: #E2EBFA;\n",
              "      box-shadow: 0px 1px 2px rgba(60, 64, 67, 0.3), 0px 1px 3px 1px rgba(60, 64, 67, 0.15);\n",
              "      fill: #174EA6;\n",
              "    }\n",
              "\n",
              "    [theme=dark] .colab-df-convert {\n",
              "      background-color: #3B4455;\n",
              "      fill: #D2E3FC;\n",
              "    }\n",
              "\n",
              "    [theme=dark] .colab-df-convert:hover {\n",
              "      background-color: #434B5C;\n",
              "      box-shadow: 0px 1px 3px 1px rgba(0, 0, 0, 0.15);\n",
              "      filter: drop-shadow(0px 1px 2px rgba(0, 0, 0, 0.3));\n",
              "      fill: #FFFFFF;\n",
              "    }\n",
              "  </style>\n",
              "\n",
              "      <script>\n",
              "        const buttonEl =\n",
              "          document.querySelector('#df-e53da96c-1d62-4106-a2fa-1b22b08f3134 button.colab-df-convert');\n",
              "        buttonEl.style.display =\n",
              "          google.colab.kernel.accessAllowed ? 'block' : 'none';\n",
              "\n",
              "        async function convertToInteractive(key) {\n",
              "          const element = document.querySelector('#df-e53da96c-1d62-4106-a2fa-1b22b08f3134');\n",
              "          const dataTable =\n",
              "            await google.colab.kernel.invokeFunction('convertToInteractive',\n",
              "                                                     [key], {});\n",
              "          if (!dataTable) return;\n",
              "\n",
              "          const docLinkHtml = 'Like what you see? Visit the ' +\n",
              "            '<a target=\"_blank\" href=https://colab.research.google.com/notebooks/data_table.ipynb>data table notebook</a>'\n",
              "            + ' to learn more about interactive tables.';\n",
              "          element.innerHTML = '';\n",
              "          dataTable['output_type'] = 'display_data';\n",
              "          await google.colab.output.renderOutput(dataTable, element);\n",
              "          const docLink = document.createElement('div');\n",
              "          docLink.innerHTML = docLinkHtml;\n",
              "          element.appendChild(docLink);\n",
              "        }\n",
              "      </script>\n",
              "    </div>\n",
              "  </div>\n",
              "  "
            ]
          },
          "metadata": {},
          "execution_count": 9
        }
      ]
    },
    {
      "cell_type": "code",
      "source": [
        "# Normalize the data using MinMaxScaler\n",
        "scaler = MinMaxScaler()\n",
        "normalized_data = scaler.fit_transform(df)\n",
        "\n",
        "# Convert the normalized data back to a DataFrame\n",
        "normalized_df = pd.DataFrame(normalized_data, columns=df.columns)\n",
        "\n",
        "# Print the normalized DataFrame\n",
        "print(normalized_df)"
      ],
      "metadata": {
        "colab": {
          "base_uri": "https://localhost:8080/"
        },
        "id": "LME5qbGkXvaJ",
        "outputId": "9b32f242-8e84-46d9-c74a-7514f0c02691"
      },
      "execution_count": 10,
      "outputs": [
        {
          "output_type": "stream",
          "name": "stdout",
          "text": [
            "      Sex       Age  Birth Weight  Birth Length  Body Weight  Body Length  \\\n",
            "0     0.0  0.948276      0.500000      0.727273     0.375000     0.637931   \n",
            "1     0.0  0.327586      0.681818      0.636364     0.379630     0.474138   \n",
            "2     1.0  0.051724      0.454545      0.545455     0.166667     0.172414   \n",
            "3     0.0  0.224138      0.090909      0.636364     0.189815     0.310345   \n",
            "4     1.0  0.534483      0.636364      0.636364     0.375000     0.615517   \n",
            "...   ...       ...           ...           ...          ...          ...   \n",
            "6495  1.0  0.896552      0.500000      0.636364     0.560185     0.741379   \n",
            "6496  1.0  0.137931      0.500000      0.727273     0.203704     0.155172   \n",
            "6497  0.0  0.327586      0.000000      0.545455     0.203704     0.344828   \n",
            "6498  1.0  0.172414      0.500000      0.636364     0.222222     0.224138   \n",
            "6499  0.0  0.224138      0.500000      0.636364     0.166667     0.224138   \n",
            "\n",
            "      ASI Eksklusif  Stunting  \n",
            "0               1.0       0.0  \n",
            "1               0.0       0.0  \n",
            "2               0.0       0.0  \n",
            "3               1.0       0.0  \n",
            "4               1.0       0.0  \n",
            "...             ...       ...  \n",
            "6495            0.0       1.0  \n",
            "6496            0.0       1.0  \n",
            "6497            1.0       1.0  \n",
            "6498            0.0       1.0  \n",
            "6499            0.0       1.0  \n",
            "\n",
            "[6500 rows x 8 columns]\n"
          ]
        }
      ]
    },
    {
      "cell_type": "code",
      "source": [
        "#Data Splitting\n",
        "# Separating the Feature and Labels\n",
        "X = normalized_df.drop(columns=[\"Stunting\"])\n",
        "y = normalized_df[\"Stunting\"]\n",
        "\n",
        "# Split the dataset into training and test sets\n",
        "X_train, X_test, y_train, y_test = train_test_split(X, y, test_size=0.1, random_state=42)"
      ],
      "metadata": {
        "id": "mz9jYlhQzIAU"
      },
      "execution_count": 11,
      "outputs": []
    },
    {
      "cell_type": "markdown",
      "source": [
        "## **Model Architecture**"
      ],
      "metadata": {
        "id": "6mZQPlPywqvB"
      }
    },
    {
      "cell_type": "code",
      "source": [
        "model = tf.keras.Sequential([\n",
        "    tf.keras.layers.Dense(32, activation='relu', input_shape=(7,)),\n",
        "    tf.keras.layers.Dense(64, activation='relu'),\n",
        "    tf.keras.layers.Dense(32, activation='relu'),\n",
        "    tf.keras.layers.Dense(16, activation='relu'),\n",
        "    tf.keras.layers.Dense(1, activation='sigmoid')\n",
        "])"
      ],
      "metadata": {
        "id": "GV2iiaCxuqwU"
      },
      "execution_count": 12,
      "outputs": []
    },
    {
      "cell_type": "code",
      "source": [
        "bce = tf.keras.losses.BinaryCrossentropy(from_logits=False)\n",
        "optimizer = tf.keras.optimizers.Adam(learning_rate=1e-3)\n",
        "\n",
        "model.compile(\n",
        "    loss=bce,\n",
        "    optimizer=optimizer,\n",
        "    metrics=['accuracy']\n",
        ")"
      ],
      "metadata": {
        "id": "uoUhB-Jv0qS8"
      },
      "execution_count": 13,
      "outputs": []
    },
    {
      "cell_type": "code",
      "source": [
        "history = model.fit(X_train, y_train, epochs=100, batch_size=64, validation_data=(X_test, y_test))"
      ],
      "metadata": {
        "id": "V0eidbOPyOrJ",
        "colab": {
          "base_uri": "https://localhost:8080/"
        },
        "outputId": "57d3e7c4-d996-4165-b0ba-f193e66c8142"
      },
      "execution_count": 14,
      "outputs": [
        {
          "output_type": "stream",
          "name": "stdout",
          "text": [
            "Epoch 1/100\n",
            "92/92 [==============================] - 8s 9ms/step - loss: 0.6205 - accuracy: 0.6682 - val_loss: 0.5613 - val_accuracy: 0.7108\n",
            "Epoch 2/100\n",
            "92/92 [==============================] - 1s 6ms/step - loss: 0.5154 - accuracy: 0.7513 - val_loss: 0.4633 - val_accuracy: 0.8185\n",
            "Epoch 3/100\n",
            "92/92 [==============================] - 1s 7ms/step - loss: 0.4282 - accuracy: 0.8156 - val_loss: 0.3910 - val_accuracy: 0.8262\n",
            "Epoch 4/100\n",
            "92/92 [==============================] - 0s 4ms/step - loss: 0.3598 - accuracy: 0.8455 - val_loss: 0.3853 - val_accuracy: 0.8323\n",
            "Epoch 5/100\n",
            "92/92 [==============================] - 0s 5ms/step - loss: 0.3286 - accuracy: 0.8622 - val_loss: 0.3511 - val_accuracy: 0.8400\n",
            "Epoch 6/100\n",
            "92/92 [==============================] - 0s 4ms/step - loss: 0.3016 - accuracy: 0.8795 - val_loss: 0.3160 - val_accuracy: 0.8754\n",
            "Epoch 7/100\n",
            "92/92 [==============================] - 0s 4ms/step - loss: 0.2822 - accuracy: 0.8964 - val_loss: 0.3115 - val_accuracy: 0.8754\n",
            "Epoch 8/100\n",
            "92/92 [==============================] - 0s 4ms/step - loss: 0.2732 - accuracy: 0.8995 - val_loss: 0.3045 - val_accuracy: 0.8815\n",
            "Epoch 9/100\n",
            "92/92 [==============================] - 0s 4ms/step - loss: 0.2649 - accuracy: 0.9051 - val_loss: 0.2940 - val_accuracy: 0.9031\n",
            "Epoch 10/100\n",
            "92/92 [==============================] - 0s 4ms/step - loss: 0.2620 - accuracy: 0.9097 - val_loss: 0.2874 - val_accuracy: 0.9200\n",
            "Epoch 11/100\n",
            "92/92 [==============================] - 0s 4ms/step - loss: 0.2549 - accuracy: 0.9103 - val_loss: 0.2862 - val_accuracy: 0.9138\n",
            "Epoch 12/100\n",
            "92/92 [==============================] - 0s 4ms/step - loss: 0.2518 - accuracy: 0.9149 - val_loss: 0.2750 - val_accuracy: 0.9246\n",
            "Epoch 13/100\n",
            "92/92 [==============================] - 0s 4ms/step - loss: 0.2382 - accuracy: 0.9219 - val_loss: 0.2849 - val_accuracy: 0.9169\n",
            "Epoch 14/100\n",
            "92/92 [==============================] - 0s 4ms/step - loss: 0.2407 - accuracy: 0.9185 - val_loss: 0.2767 - val_accuracy: 0.9077\n",
            "Epoch 15/100\n",
            "92/92 [==============================] - 0s 5ms/step - loss: 0.2337 - accuracy: 0.9210 - val_loss: 0.2759 - val_accuracy: 0.9246\n",
            "Epoch 16/100\n",
            "92/92 [==============================] - 0s 4ms/step - loss: 0.2342 - accuracy: 0.9231 - val_loss: 0.2727 - val_accuracy: 0.9000\n",
            "Epoch 17/100\n",
            "92/92 [==============================] - 0s 4ms/step - loss: 0.2307 - accuracy: 0.9244 - val_loss: 0.2639 - val_accuracy: 0.9185\n",
            "Epoch 18/100\n",
            "92/92 [==============================] - 0s 4ms/step - loss: 0.2233 - accuracy: 0.9284 - val_loss: 0.2543 - val_accuracy: 0.9323\n",
            "Epoch 19/100\n",
            "92/92 [==============================] - 0s 5ms/step - loss: 0.2234 - accuracy: 0.9308 - val_loss: 0.2617 - val_accuracy: 0.9369\n",
            "Epoch 20/100\n",
            "92/92 [==============================] - 0s 4ms/step - loss: 0.2209 - accuracy: 0.9279 - val_loss: 0.2437 - val_accuracy: 0.9323\n",
            "Epoch 21/100\n",
            "92/92 [==============================] - 0s 4ms/step - loss: 0.2122 - accuracy: 0.9344 - val_loss: 0.2447 - val_accuracy: 0.9200\n",
            "Epoch 22/100\n",
            "92/92 [==============================] - 0s 4ms/step - loss: 0.2077 - accuracy: 0.9371 - val_loss: 0.2470 - val_accuracy: 0.9292\n",
            "Epoch 23/100\n",
            "92/92 [==============================] - 0s 4ms/step - loss: 0.2206 - accuracy: 0.9308 - val_loss: 0.2524 - val_accuracy: 0.9092\n",
            "Epoch 24/100\n",
            "92/92 [==============================] - 0s 4ms/step - loss: 0.2071 - accuracy: 0.9379 - val_loss: 0.2342 - val_accuracy: 0.9246\n",
            "Epoch 25/100\n",
            "92/92 [==============================] - 0s 4ms/step - loss: 0.2130 - accuracy: 0.9291 - val_loss: 0.2273 - val_accuracy: 0.9308\n",
            "Epoch 26/100\n",
            "92/92 [==============================] - 0s 4ms/step - loss: 0.2003 - accuracy: 0.9369 - val_loss: 0.2366 - val_accuracy: 0.9277\n",
            "Epoch 27/100\n",
            "92/92 [==============================] - 0s 4ms/step - loss: 0.1968 - accuracy: 0.9398 - val_loss: 0.2257 - val_accuracy: 0.9354\n",
            "Epoch 28/100\n",
            "92/92 [==============================] - 0s 5ms/step - loss: 0.1953 - accuracy: 0.9424 - val_loss: 0.2213 - val_accuracy: 0.9462\n",
            "Epoch 29/100\n",
            "92/92 [==============================] - 1s 6ms/step - loss: 0.1941 - accuracy: 0.9414 - val_loss: 0.2185 - val_accuracy: 0.9292\n",
            "Epoch 30/100\n",
            "92/92 [==============================] - 1s 7ms/step - loss: 0.1897 - accuracy: 0.9448 - val_loss: 0.2114 - val_accuracy: 0.9338\n",
            "Epoch 31/100\n",
            "92/92 [==============================] - 1s 6ms/step - loss: 0.1880 - accuracy: 0.9409 - val_loss: 0.2120 - val_accuracy: 0.9446\n",
            "Epoch 32/100\n",
            "92/92 [==============================] - 1s 6ms/step - loss: 0.1883 - accuracy: 0.9409 - val_loss: 0.2216 - val_accuracy: 0.9292\n",
            "Epoch 33/100\n",
            "92/92 [==============================] - 1s 6ms/step - loss: 0.1822 - accuracy: 0.9456 - val_loss: 0.2104 - val_accuracy: 0.9415\n",
            "Epoch 34/100\n",
            "92/92 [==============================] - 1s 7ms/step - loss: 0.1828 - accuracy: 0.9456 - val_loss: 0.2047 - val_accuracy: 0.9369\n",
            "Epoch 35/100\n",
            "92/92 [==============================] - 0s 4ms/step - loss: 0.1806 - accuracy: 0.9456 - val_loss: 0.2010 - val_accuracy: 0.9431\n",
            "Epoch 36/100\n",
            "92/92 [==============================] - 0s 5ms/step - loss: 0.1744 - accuracy: 0.9504 - val_loss: 0.2030 - val_accuracy: 0.9431\n",
            "Epoch 37/100\n",
            "92/92 [==============================] - 0s 4ms/step - loss: 0.1693 - accuracy: 0.9491 - val_loss: 0.1928 - val_accuracy: 0.9477\n",
            "Epoch 38/100\n",
            "92/92 [==============================] - 0s 4ms/step - loss: 0.1702 - accuracy: 0.9477 - val_loss: 0.2000 - val_accuracy: 0.9200\n",
            "Epoch 39/100\n",
            "92/92 [==============================] - 0s 5ms/step - loss: 0.1670 - accuracy: 0.9523 - val_loss: 0.1834 - val_accuracy: 0.9477\n",
            "Epoch 40/100\n",
            "92/92 [==============================] - 0s 4ms/step - loss: 0.1677 - accuracy: 0.9482 - val_loss: 0.1844 - val_accuracy: 0.9385\n",
            "Epoch 41/100\n",
            "92/92 [==============================] - 0s 4ms/step - loss: 0.1676 - accuracy: 0.9465 - val_loss: 0.2006 - val_accuracy: 0.9215\n",
            "Epoch 42/100\n",
            "92/92 [==============================] - 0s 4ms/step - loss: 0.1766 - accuracy: 0.9422 - val_loss: 0.1980 - val_accuracy: 0.9262\n",
            "Epoch 43/100\n",
            "92/92 [==============================] - 0s 4ms/step - loss: 0.1570 - accuracy: 0.9547 - val_loss: 0.1781 - val_accuracy: 0.9508\n",
            "Epoch 44/100\n",
            "92/92 [==============================] - 0s 4ms/step - loss: 0.1539 - accuracy: 0.9538 - val_loss: 0.1818 - val_accuracy: 0.9415\n",
            "Epoch 45/100\n",
            "92/92 [==============================] - 0s 5ms/step - loss: 0.1518 - accuracy: 0.9520 - val_loss: 0.2110 - val_accuracy: 0.9262\n",
            "Epoch 46/100\n",
            "92/92 [==============================] - 0s 4ms/step - loss: 0.1555 - accuracy: 0.9489 - val_loss: 0.2096 - val_accuracy: 0.9292\n",
            "Epoch 47/100\n",
            "92/92 [==============================] - 0s 4ms/step - loss: 0.1548 - accuracy: 0.9504 - val_loss: 0.1663 - val_accuracy: 0.9477\n",
            "Epoch 48/100\n",
            "92/92 [==============================] - 0s 4ms/step - loss: 0.1471 - accuracy: 0.9547 - val_loss: 0.1654 - val_accuracy: 0.9477\n",
            "Epoch 49/100\n",
            "92/92 [==============================] - 0s 4ms/step - loss: 0.1452 - accuracy: 0.9545 - val_loss: 0.1686 - val_accuracy: 0.9462\n",
            "Epoch 50/100\n",
            "92/92 [==============================] - 0s 4ms/step - loss: 0.1483 - accuracy: 0.9545 - val_loss: 0.1709 - val_accuracy: 0.9385\n",
            "Epoch 51/100\n",
            "92/92 [==============================] - 0s 4ms/step - loss: 0.1473 - accuracy: 0.9533 - val_loss: 0.1689 - val_accuracy: 0.9400\n",
            "Epoch 52/100\n",
            "92/92 [==============================] - 0s 4ms/step - loss: 0.1390 - accuracy: 0.9581 - val_loss: 0.1602 - val_accuracy: 0.9523\n",
            "Epoch 53/100\n",
            "92/92 [==============================] - 0s 4ms/step - loss: 0.1424 - accuracy: 0.9561 - val_loss: 0.1572 - val_accuracy: 0.9431\n",
            "Epoch 54/100\n",
            "92/92 [==============================] - 0s 4ms/step - loss: 0.1381 - accuracy: 0.9593 - val_loss: 0.1517 - val_accuracy: 0.9492\n",
            "Epoch 55/100\n",
            "92/92 [==============================] - 0s 4ms/step - loss: 0.1448 - accuracy: 0.9538 - val_loss: 0.1555 - val_accuracy: 0.9477\n",
            "Epoch 56/100\n",
            "92/92 [==============================] - 0s 4ms/step - loss: 0.1441 - accuracy: 0.9554 - val_loss: 0.1683 - val_accuracy: 0.9369\n",
            "Epoch 57/100\n",
            "92/92 [==============================] - 0s 4ms/step - loss: 0.1343 - accuracy: 0.9586 - val_loss: 0.1434 - val_accuracy: 0.9554\n",
            "Epoch 58/100\n",
            "92/92 [==============================] - 0s 4ms/step - loss: 0.1386 - accuracy: 0.9571 - val_loss: 0.1616 - val_accuracy: 0.9446\n",
            "Epoch 59/100\n",
            "92/92 [==============================] - 0s 4ms/step - loss: 0.1286 - accuracy: 0.9607 - val_loss: 0.1612 - val_accuracy: 0.9462\n",
            "Epoch 60/100\n",
            "92/92 [==============================] - 0s 5ms/step - loss: 0.1321 - accuracy: 0.9586 - val_loss: 0.1419 - val_accuracy: 0.9523\n",
            "Epoch 61/100\n",
            "92/92 [==============================] - 1s 6ms/step - loss: 0.1243 - accuracy: 0.9636 - val_loss: 0.1465 - val_accuracy: 0.9508\n",
            "Epoch 62/100\n",
            "92/92 [==============================] - 1s 6ms/step - loss: 0.1247 - accuracy: 0.9639 - val_loss: 0.1420 - val_accuracy: 0.9492\n",
            "Epoch 63/100\n",
            "92/92 [==============================] - 1s 6ms/step - loss: 0.1278 - accuracy: 0.9605 - val_loss: 0.1771 - val_accuracy: 0.9277\n",
            "Epoch 64/100\n",
            "92/92 [==============================] - 1s 6ms/step - loss: 0.1269 - accuracy: 0.9602 - val_loss: 0.1441 - val_accuracy: 0.9554\n",
            "Epoch 65/100\n",
            "92/92 [==============================] - 1s 6ms/step - loss: 0.1189 - accuracy: 0.9641 - val_loss: 0.1448 - val_accuracy: 0.9538\n",
            "Epoch 66/100\n",
            "92/92 [==============================] - 1s 6ms/step - loss: 0.1221 - accuracy: 0.9609 - val_loss: 0.1406 - val_accuracy: 0.9554\n",
            "Epoch 67/100\n",
            "92/92 [==============================] - 0s 5ms/step - loss: 0.1205 - accuracy: 0.9622 - val_loss: 0.1345 - val_accuracy: 0.9585\n",
            "Epoch 68/100\n",
            "92/92 [==============================] - 0s 4ms/step - loss: 0.1194 - accuracy: 0.9646 - val_loss: 0.1442 - val_accuracy: 0.9508\n",
            "Epoch 69/100\n",
            "92/92 [==============================] - 0s 4ms/step - loss: 0.1198 - accuracy: 0.9627 - val_loss: 0.1493 - val_accuracy: 0.9569\n",
            "Epoch 70/100\n",
            "92/92 [==============================] - 0s 5ms/step - loss: 0.1197 - accuracy: 0.9639 - val_loss: 0.1324 - val_accuracy: 0.9646\n",
            "Epoch 71/100\n",
            "92/92 [==============================] - 0s 4ms/step - loss: 0.1142 - accuracy: 0.9668 - val_loss: 0.1407 - val_accuracy: 0.9462\n",
            "Epoch 72/100\n",
            "92/92 [==============================] - 0s 4ms/step - loss: 0.1162 - accuracy: 0.9650 - val_loss: 0.1458 - val_accuracy: 0.9492\n",
            "Epoch 73/100\n",
            "92/92 [==============================] - 0s 4ms/step - loss: 0.1109 - accuracy: 0.9682 - val_loss: 0.1347 - val_accuracy: 0.9615\n",
            "Epoch 74/100\n",
            "92/92 [==============================] - 0s 4ms/step - loss: 0.1167 - accuracy: 0.9651 - val_loss: 0.1460 - val_accuracy: 0.9508\n",
            "Epoch 75/100\n",
            "92/92 [==============================] - 0s 4ms/step - loss: 0.1139 - accuracy: 0.9663 - val_loss: 0.1413 - val_accuracy: 0.9462\n",
            "Epoch 76/100\n",
            "92/92 [==============================] - 0s 4ms/step - loss: 0.1091 - accuracy: 0.9665 - val_loss: 0.1323 - val_accuracy: 0.9523\n",
            "Epoch 77/100\n",
            "92/92 [==============================] - 0s 4ms/step - loss: 0.1064 - accuracy: 0.9668 - val_loss: 0.1527 - val_accuracy: 0.9554\n",
            "Epoch 78/100\n",
            "92/92 [==============================] - 0s 4ms/step - loss: 0.1215 - accuracy: 0.9622 - val_loss: 0.1593 - val_accuracy: 0.9523\n",
            "Epoch 79/100\n",
            "92/92 [==============================] - 0s 4ms/step - loss: 0.1115 - accuracy: 0.9670 - val_loss: 0.1400 - val_accuracy: 0.9538\n",
            "Epoch 80/100\n",
            "92/92 [==============================] - 0s 4ms/step - loss: 0.1110 - accuracy: 0.9650 - val_loss: 0.1361 - val_accuracy: 0.9569\n",
            "Epoch 81/100\n",
            "92/92 [==============================] - 0s 4ms/step - loss: 0.1084 - accuracy: 0.9679 - val_loss: 0.1354 - val_accuracy: 0.9523\n",
            "Epoch 82/100\n",
            "92/92 [==============================] - 0s 5ms/step - loss: 0.1054 - accuracy: 0.9674 - val_loss: 0.1313 - val_accuracy: 0.9600\n",
            "Epoch 83/100\n",
            "92/92 [==============================] - 0s 4ms/step - loss: 0.1034 - accuracy: 0.9682 - val_loss: 0.1375 - val_accuracy: 0.9508\n",
            "Epoch 84/100\n",
            "92/92 [==============================] - 0s 4ms/step - loss: 0.1067 - accuracy: 0.9675 - val_loss: 0.1326 - val_accuracy: 0.9585\n",
            "Epoch 85/100\n",
            "92/92 [==============================] - 0s 5ms/step - loss: 0.1053 - accuracy: 0.9677 - val_loss: 0.1375 - val_accuracy: 0.9554\n",
            "Epoch 86/100\n",
            "92/92 [==============================] - 0s 5ms/step - loss: 0.1106 - accuracy: 0.9672 - val_loss: 0.1384 - val_accuracy: 0.9600\n",
            "Epoch 87/100\n",
            "92/92 [==============================] - 0s 5ms/step - loss: 0.1074 - accuracy: 0.9644 - val_loss: 0.1343 - val_accuracy: 0.9538\n",
            "Epoch 88/100\n",
            "92/92 [==============================] - 0s 4ms/step - loss: 0.1198 - accuracy: 0.9595 - val_loss: 0.1312 - val_accuracy: 0.9569\n",
            "Epoch 89/100\n",
            "92/92 [==============================] - 0s 4ms/step - loss: 0.1032 - accuracy: 0.9682 - val_loss: 0.1352 - val_accuracy: 0.9523\n",
            "Epoch 90/100\n",
            "92/92 [==============================] - 0s 4ms/step - loss: 0.0989 - accuracy: 0.9692 - val_loss: 0.1378 - val_accuracy: 0.9554\n",
            "Epoch 91/100\n",
            "92/92 [==============================] - 0s 5ms/step - loss: 0.0981 - accuracy: 0.9677 - val_loss: 0.1331 - val_accuracy: 0.9631\n",
            "Epoch 92/100\n",
            "92/92 [==============================] - 1s 6ms/step - loss: 0.0969 - accuracy: 0.9704 - val_loss: 0.1345 - val_accuracy: 0.9600\n",
            "Epoch 93/100\n",
            "92/92 [==============================] - 1s 7ms/step - loss: 0.1024 - accuracy: 0.9675 - val_loss: 0.1407 - val_accuracy: 0.9523\n",
            "Epoch 94/100\n",
            "92/92 [==============================] - 1s 7ms/step - loss: 0.0955 - accuracy: 0.9716 - val_loss: 0.1567 - val_accuracy: 0.9462\n",
            "Epoch 95/100\n",
            "92/92 [==============================] - 1s 6ms/step - loss: 0.1004 - accuracy: 0.9677 - val_loss: 0.1334 - val_accuracy: 0.9631\n",
            "Epoch 96/100\n",
            "92/92 [==============================] - 1s 7ms/step - loss: 0.0985 - accuracy: 0.9684 - val_loss: 0.1343 - val_accuracy: 0.9569\n",
            "Epoch 97/100\n",
            "92/92 [==============================] - 1s 6ms/step - loss: 0.0964 - accuracy: 0.9687 - val_loss: 0.2157 - val_accuracy: 0.9077\n",
            "Epoch 98/100\n",
            "92/92 [==============================] - 0s 4ms/step - loss: 0.1238 - accuracy: 0.9571 - val_loss: 0.1440 - val_accuracy: 0.9538\n",
            "Epoch 99/100\n",
            "92/92 [==============================] - 0s 4ms/step - loss: 0.0984 - accuracy: 0.9670 - val_loss: 0.1860 - val_accuracy: 0.9277\n",
            "Epoch 100/100\n",
            "92/92 [==============================] - 0s 4ms/step - loss: 0.1018 - accuracy: 0.9668 - val_loss: 0.1347 - val_accuracy: 0.9415\n"
          ]
        }
      ]
    },
    {
      "cell_type": "code",
      "source": [
        "model.summary()"
      ],
      "metadata": {
        "id": "a9drHaPCzX7y",
        "colab": {
          "base_uri": "https://localhost:8080/"
        },
        "outputId": "2aa7b801-b539-44de-ddd5-a8b67b9db137"
      },
      "execution_count": 15,
      "outputs": [
        {
          "output_type": "stream",
          "name": "stdout",
          "text": [
            "Model: \"sequential\"\n",
            "_________________________________________________________________\n",
            " Layer (type)                Output Shape              Param #   \n",
            "=================================================================\n",
            " dense (Dense)               (None, 32)                256       \n",
            "                                                                 \n",
            " dense_1 (Dense)             (None, 64)                2112      \n",
            "                                                                 \n",
            " dense_2 (Dense)             (None, 32)                2080      \n",
            "                                                                 \n",
            " dense_3 (Dense)             (None, 16)                528       \n",
            "                                                                 \n",
            " dense_4 (Dense)             (None, 1)                 17        \n",
            "                                                                 \n",
            "=================================================================\n",
            "Total params: 4,993\n",
            "Trainable params: 4,993\n",
            "Non-trainable params: 0\n",
            "_________________________________________________________________\n"
          ]
        }
      ]
    },
    {
      "cell_type": "code",
      "source": [
        "import numpy as np\n",
        "model.predict(np.array([[0,\t16,\t2.3,\t50,\t6.2,\t68.0,\t0\t]]))"
      ],
      "metadata": {
        "id": "4sbTnrW8QpIa",
        "colab": {
          "base_uri": "https://localhost:8080/"
        },
        "outputId": "dd90c0ef-210d-4d59-96c3-16eaa948b292"
      },
      "execution_count": 16,
      "outputs": [
        {
          "output_type": "stream",
          "name": "stdout",
          "text": [
            "1/1 [==============================] - 0s 84ms/step\n"
          ]
        },
        {
          "output_type": "execute_result",
          "data": {
            "text/plain": [
              "array([[1.]], dtype=float32)"
            ]
          },
          "metadata": {},
          "execution_count": 16
        }
      ]
    },
    {
      "cell_type": "markdown",
      "source": [
        "## **Model Evaluation**"
      ],
      "metadata": {
        "id": "ngN3IkUCDyCo"
      }
    },
    {
      "cell_type": "code",
      "source": [
        "# Make predictions on the test set\n",
        "y_pred = model.predict(X_test)\n",
        "\n",
        "# Convert continuous variable to binary labels\n",
        "threshold = 0.5\n",
        "y_pred_binary = (y_pred >= threshold).astype(int)\n",
        "\n",
        "# Create the confusion matrix\n",
        "confusion = confusion_matrix(y_pred_binary, y_test)\n",
        "\n",
        "# Create a heatmap of the confusion matrix\n",
        "sns.heatmap(confusion, annot=True, cmap=\"Blues\", fmt=\"d\")\n",
        "\n",
        "# Set the axis labels\n",
        "plt.xlabel(\"Predicted Labels\")\n",
        "plt.ylabel(\"True Labels\")\n",
        "\n",
        "# Set the title\n",
        "plt.title(\"Confusion Matrix\")\n",
        "\n",
        "# Display the plot\n",
        "plt.show()"
      ],
      "metadata": {
        "colab": {
          "base_uri": "https://localhost:8080/",
          "height": 489
        },
        "id": "ANIxQZ4NSKFx",
        "outputId": "7d7af5a2-c743-4f41-8ce2-cfbafcd69bb1"
      },
      "execution_count": 17,
      "outputs": [
        {
          "output_type": "stream",
          "name": "stdout",
          "text": [
            "21/21 [==============================] - 0s 1ms/step\n"
          ]
        },
        {
          "output_type": "display_data",
          "data": {
            "text/plain": [
              "<Figure size 640x480 with 2 Axes>"
            ],
            "image/png": "[encoded data removed]"
          },
          "metadata": {}
        }
      ]
    },
    {
      "cell_type": "code",
      "source": [
        "# Retrieve a list of list results on training and test data\n",
        "# sets for each training epoch\n",
        "acc = history.history['accuracy']\n",
        "val_acc = history.history['val_accuracy']\n",
        "loss = history.history['loss']\n",
        "val_loss = history.history['val_loss']\n",
        "\n",
        "epochs = range(len(acc))  # Get number of epochs\n",
        "\n",
        "# Plot training and validation accuracy per epoch\n",
        "plt.plot(epochs, acc, 'r', label=\"Training Accuracy\")\n",
        "plt.plot(epochs, val_acc, 'b', label=\"Validation Accuracy\")\n",
        "plt.title('Training and validation accuracy')\n",
        "plt.legend()  # Add legend to the plot\n",
        "plt.show()\n",
        "print(\"\")\n",
        "\n",
        "# Plot training and validation loss per epoch\n",
        "plt.plot(epochs, loss, 'r', label=\"Training Loss\")\n",
        "plt.plot(epochs, val_loss, 'b', label=\"Validation Loss\")\n",
        "plt.title('Training and validation loss')\n",
        "plt.legend()  # Add legend to the plot\n",
        "plt.show()\n"
      ],
      "metadata": {
        "id": "mEX8XrJ6Dtso",
        "colab": {
          "base_uri": "https://localhost:8080/",
          "height": 904
        },
        "outputId": "2321ff45-4429-4ebe-bd78-0bce0c2f665d"
      },
      "execution_count": 18,
      "outputs": [
        {
          "output_type": "display_data",
          "data": {
            "text/plain": [
              "<Figure size 640x480 with 1 Axes>"
            ],
            "image/png": "[encoded data removed]"
          },
          "metadata": {}
        },
        {
          "output_type": "stream",
          "name": "stdout",
          "text": [
            "\n"
          ]
        },
        {
          "output_type": "display_data",
          "data": {
            "text/plain": [
              "<Figure size 640x480 with 1 Axes>"
            ],
            "image/png": "[encoded data removed]"
          },
          "metadata": {}
        }
      ]
    },
    {
      "cell_type": "markdown",
      "source": [
        "## **Save Model**"
      ],
      "metadata": {
        "id": "4W9scfz_IOMz"
      }
    },
    {
      "cell_type": "code",
      "source": [
        "# Save your model\n",
        "model.save('saved_model')"
      ],
      "metadata": {
        "id": "mL7IZruCINuE"
      },
      "execution_count": 19,
      "outputs": []
    },
    {
      "cell_type": "code",
      "source": [
        "from joblib import dump, load\n",
        "dump(scaler, 'filename.joblib')"
      ],
      "metadata": {
        "colab": {
          "base_uri": "https://localhost:8080/"
        },
        "id": "v2MNTbONSZ6N",
        "outputId": "215086b9-8404-4815-95fe-f91cbfa85029"
      },
      "execution_count": 20,
      "outputs": [
        {
          "output_type": "execute_result",
          "data": {
            "text/plain": [
              "['filename.joblib']"
            ]
          },
          "metadata": {},
          "execution_count": 20
        }
      ]
    },
    {
      "cell_type": "code",
      "source": [
        "scalerload = load('filename.joblib')"
      ],
      "metadata": {
        "id": "B6U0qn01ShQy"
      },
      "execution_count": 21,
      "outputs": []
    },
    {
      "cell_type": "markdown",
      "source": [
        "## **Export the Model**"
      ],
      "metadata": {
        "id": "-KQquq5tVzSk"
      }
    },
    {
      "cell_type": "code",
      "source": [
        "# Convert the SavedModel to TFLite format with optimizations\n",
        "converter = tf.lite.TFLiteConverter.from_saved_model('saved_model')\n",
        "converter.optimizations = [tf.lite.Optimize.DEFAULT]  # Apply default optimizations\n",
        "tflite_model = converter.convert()\n",
        "\n",
        "# Save the TFLite model to a file\n",
        "with open('model.tflite', 'wb') as f:\n",
        "    f.write(tflite_model)\n"
      ],
      "metadata": {
        "id": "XoSCcHcZKAcv"
      },
      "execution_count": 22,
      "outputs": []
    },
    {
      "cell_type": "code",
      "source": [],
      "metadata": {
        "id": "PVWHIiGg9RWW"
      },
      "execution_count": null,
      "outputs": []
    }
  ]
}