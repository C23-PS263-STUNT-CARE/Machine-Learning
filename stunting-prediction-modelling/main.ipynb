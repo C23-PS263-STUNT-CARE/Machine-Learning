{
  "nbformat": 4,
  "nbformat_minor": 0,
  "metadata": {
    "colab": {
      "provenance": [],
      "gpuType": "T4"
    },
    "kernelspec": {
      "name": "python3",
      "display_name": "Python 3"
    },
    "language_info": {
      "name": "python"
    },
    "accelerator": "GPU",
    "gpuClass": "standard"
  },
  "cells": [
    {
      "cell_type": "markdown",
      "source": [
        "## **Import Library and Dataset**"
      ],
      "metadata": {
        "id": "EwVSr7SxGCKx"
      }
    },
    {
      "cell_type": "code",
      "execution_count": 1,
      "metadata": {
        "id": "WtI5BUEJNpVI"
      },
      "outputs": [],
      "source": [
        "#Import Library\n",
        "import numpy as np\n",
        "import tensorflow as tf\n",
        "import pandas as pd\n",
        "import matplotlib.pyplot as plt\n",
        "from tensorflow import keras\n",
        "from sklearn.model_selection import train_test_split\n",
        "from sklearn.metrics import confusion_matrix\n",
        "from sklearn.preprocessing import MinMaxScaler\n",
        "import seaborn as sns"
      ]
    },
    {
      "cell_type": "code",
      "source": [
        "from google.colab import drive\n",
        "drive.mount('/content/drive')"
      ],
      "metadata": {
        "colab": {
          "base_uri": "https://localhost:8080/"
        },
        "id": "hgfou0OoXer5",
        "outputId": "a52deae8-6d0e-4c6d-f79c-80bbcdcf70b3"
      },
      "execution_count": 2,
      "outputs": [
        {
          "output_type": "stream",
          "name": "stdout",
          "text": [
            "Mounted at /content/drive\n"
          ]
        }
      ]
    },
    {
      "cell_type": "markdown",
      "source": [
        "## **Data Preprocessing**"
      ],
      "metadata": {
        "id": "0tuSJ3N5KC9F"
      }
    },
    {
      "cell_type": "code",
      "source": [
        "# Read the data in the XLSX file using pandas\n",
        "file_path = '/content/drive/Shareddrives/Product_Base_Capstone/Machine_Learning/Dataset/Stunting Dataset.xlsx'\n",
        "df = pd.read_excel(file_path)"
      ],
      "metadata": {
        "id": "Rb-HGLsfolqW"
      },
      "execution_count": 3,
      "outputs": []
    },
    {
      "cell_type": "code",
      "source": [
        "#Display Information of dataset\n",
        "df"
      ],
      "metadata": {
        "colab": {
          "base_uri": "https://localhost:8080/",
          "height": 423
        },
        "id": "rsEVKTnsJ1jZ",
        "outputId": "a1ea78dc-26c3-4791-ec55-5160761fbe85"
      },
      "execution_count": 49,
      "outputs": [
        {
          "output_type": "execute_result",
          "data": {
            "text/plain": [
              "     Sex  Age  Birth Weight  Birth Length  Body Weight  Body Length  \\\n",
              "0      F   56           2.9            50         11.0         90.0   \n",
              "1      F   20           3.3            49         11.1         80.5   \n",
              "2      M    4           2.8            48          6.5         63.0   \n",
              "3      F   14           2.0            49          7.0         71.0   \n",
              "4      M   32           3.2            49         11.0         88.7   \n",
              "...   ..  ...           ...           ...          ...          ...   \n",
              "9995   M   33           2.8            49          8.4         80.0   \n",
              "9996   M   41           3.1            48          9.6         80.0   \n",
              "9997   F   19           3.0            50          7.5         57.0   \n",
              "9998   M   26           3.0            50          9.8         82.0   \n",
              "9999   M   45           3.2            50         18.0        100.0   \n",
              "\n",
              "     ASI Eksklusif Stunting  \n",
              "0              Yes       No  \n",
              "1               No       No  \n",
              "2               No       No  \n",
              "3              Yes       No  \n",
              "4              Yes       No  \n",
              "...            ...      ...  \n",
              "9995            No      Yes  \n",
              "9996            No      Yes  \n",
              "9997            No      Yes  \n",
              "9998            No      Yes  \n",
              "9999           Yes       No  \n",
              "\n",
              "[10000 rows x 8 columns]"
            ],
            "text/html": [
              "\n",
              "  <div id=\"df-e1e20361-6538-46dc-ba16-23454c406f89\">\n",
              "    <div class=\"colab-df-container\">\n",
              "      <div>\n",
              "<style scoped>\n",
              "    .dataframe tbody tr th:only-of-type {\n",
              "        vertical-align: middle;\n",
              "    }\n",
              "\n",
              "    .dataframe tbody tr th {\n",
              "        vertical-align: top;\n",
              "    }\n",
              "\n",
              "    .dataframe thead th {\n",
              "        text-align: right;\n",
              "    }\n",
              "</style>\n",
              "<table border=\"1\" class=\"dataframe\">\n",
              "  <thead>\n",
              "    <tr style=\"text-align: right;\">\n",
              "      <th></th>\n",
              "      <th>Sex</th>\n",
              "      <th>Age</th>\n",
              "      <th>Birth Weight</th>\n",
              "      <th>Birth Length</th>\n",
              "      <th>Body Weight</th>\n",
              "      <th>Body Length</th>\n",
              "      <th>ASI Eksklusif</th>\n",
              "      <th>Stunting</th>\n",
              "    </tr>\n",
              "  </thead>\n",
              "  <tbody>\n",
              "    <tr>\n",
              "      <th>0</th>\n",
              "      <td>F</td>\n",
              "      <td>56</td>\n",
              "      <td>2.9</td>\n",
              "      <td>50</td>\n",
              "      <td>11.0</td>\n",
              "      <td>90.0</td>\n",
              "      <td>Yes</td>\n",
              "      <td>No</td>\n",
              "    </tr>\n",
              "    <tr>\n",
              "      <th>1</th>\n",
              "      <td>F</td>\n",
              "      <td>20</td>\n",
              "      <td>3.3</td>\n",
              "      <td>49</td>\n",
              "      <td>11.1</td>\n",
              "      <td>80.5</td>\n",
              "      <td>No</td>\n",
              "      <td>No</td>\n",
              "    </tr>\n",
              "    <tr>\n",
              "      <th>2</th>\n",
              "      <td>M</td>\n",
              "      <td>4</td>\n",
              "      <td>2.8</td>\n",
              "      <td>48</td>\n",
              "      <td>6.5</td>\n",
              "      <td>63.0</td>\n",
              "      <td>No</td>\n",
              "      <td>No</td>\n",
              "    </tr>\n",
              "    <tr>\n",
              "      <th>3</th>\n",
              "      <td>F</td>\n",
              "      <td>14</td>\n",
              "      <td>2.0</td>\n",
              "      <td>49</td>\n",
              "      <td>7.0</td>\n",
              "      <td>71.0</td>\n",
              "      <td>Yes</td>\n",
              "      <td>No</td>\n",
              "    </tr>\n",
              "    <tr>\n",
              "      <th>4</th>\n",
              "      <td>M</td>\n",
              "      <td>32</td>\n",
              "      <td>3.2</td>\n",
              "      <td>49</td>\n",
              "      <td>11.0</td>\n",
              "      <td>88.7</td>\n",
              "      <td>Yes</td>\n",
              "      <td>No</td>\n",
              "    </tr>\n",
              "    <tr>\n",
              "      <th>...</th>\n",
              "      <td>...</td>\n",
              "      <td>...</td>\n",
              "      <td>...</td>\n",
              "      <td>...</td>\n",
              "      <td>...</td>\n",
              "      <td>...</td>\n",
              "      <td>...</td>\n",
              "      <td>...</td>\n",
              "    </tr>\n",
              "    <tr>\n",
              "      <th>9995</th>\n",
              "      <td>M</td>\n",
              "      <td>33</td>\n",
              "      <td>2.8</td>\n",
              "      <td>49</td>\n",
              "      <td>8.4</td>\n",
              "      <td>80.0</td>\n",
              "      <td>No</td>\n",
              "      <td>Yes</td>\n",
              "    </tr>\n",
              "    <tr>\n",
              "      <th>9996</th>\n",
              "      <td>M</td>\n",
              "      <td>41</td>\n",
              "      <td>3.1</td>\n",
              "      <td>48</td>\n",
              "      <td>9.6</td>\n",
              "      <td>80.0</td>\n",
              "      <td>No</td>\n",
              "      <td>Yes</td>\n",
              "    </tr>\n",
              "    <tr>\n",
              "      <th>9997</th>\n",
              "      <td>F</td>\n",
              "      <td>19</td>\n",
              "      <td>3.0</td>\n",
              "      <td>50</td>\n",
              "      <td>7.5</td>\n",
              "      <td>57.0</td>\n",
              "      <td>No</td>\n",
              "      <td>Yes</td>\n",
              "    </tr>\n",
              "    <tr>\n",
              "      <th>9998</th>\n",
              "      <td>M</td>\n",
              "      <td>26</td>\n",
              "      <td>3.0</td>\n",
              "      <td>50</td>\n",
              "      <td>9.8</td>\n",
              "      <td>82.0</td>\n",
              "      <td>No</td>\n",
              "      <td>Yes</td>\n",
              "    </tr>\n",
              "    <tr>\n",
              "      <th>9999</th>\n",
              "      <td>M</td>\n",
              "      <td>45</td>\n",
              "      <td>3.2</td>\n",
              "      <td>50</td>\n",
              "      <td>18.0</td>\n",
              "      <td>100.0</td>\n",
              "      <td>Yes</td>\n",
              "      <td>No</td>\n",
              "    </tr>\n",
              "  </tbody>\n",
              "</table>\n",
              "<p>10000 rows × 8 columns</p>\n",
              "</div>\n",
              "      <button class=\"colab-df-convert\" onclick=\"convertToInteractive('df-e1e20361-6538-46dc-ba16-23454c406f89')\"\n",
              "              title=\"Convert this dataframe to an interactive table.\"\n",
              "              style=\"display:none;\">\n",
              "        \n",
              "  <svg xmlns=\"http://www.w3.org/2000/svg\" height=\"24px\"viewBox=\"0 0 24 24\"\n",
              "       width=\"24px\">\n",
              "    <path d=\"M0 0h24v24H0V0z\" fill=\"none\"/>\n",
              "    <path d=\"M18.56 5.44l.94 2.06.94-2.06 2.06-.94-2.06-.94-.94-2.06-.94 2.06-2.06.94zm-11 1L8.5 8.5l.94-2.06 2.06-.94-2.06-.94L8.5 2.5l-.94 2.06-2.06.94zm10 10l.94 2.06.94-2.06 2.06-.94-2.06-.94-.94-2.06-.94 2.06-2.06.94z\"/><path d=\"M17.41 7.96l-1.37-1.37c-.4-.4-.92-.59-1.43-.59-.52 0-1.04.2-1.43.59L10.3 9.45l-7.72 7.72c-.78.78-.78 2.05 0 2.83L4 21.41c.39.39.9.59 1.41.59.51 0 1.02-.2 1.41-.59l7.78-7.78 2.81-2.81c.8-.78.8-2.07 0-2.86zM5.41 20L4 18.59l7.72-7.72 1.47 1.35L5.41 20z\"/>\n",
              "  </svg>\n",
              "      </button>\n",
              "      \n",
              "  <style>\n",
              "    .colab-df-container {\n",
              "      display:flex;\n",
              "      flex-wrap:wrap;\n",
              "      gap: 12px;\n",
              "    }\n",
              "\n",
              "    .colab-df-convert {\n",
              "      background-color: #E8F0FE;\n",
              "      border: none;\n",
              "      border-radius: 50%;\n",
              "      cursor: pointer;\n",
              "      display: none;\n",
              "      fill: #1967D2;\n",
              "      height: 32px;\n",
              "      padding: 0 0 0 0;\n",
              "      width: 32px;\n",
              "    }\n",
              "\n",
              "    .colab-df-convert:hover {\n",
              "      background-color: #E2EBFA;\n",
              "      box-shadow: 0px 1px 2px rgba(60, 64, 67, 0.3), 0px 1px 3px 1px rgba(60, 64, 67, 0.15);\n",
              "      fill: #174EA6;\n",
              "    }\n",
              "\n",
              "    [theme=dark] .colab-df-convert {\n",
              "      background-color: #3B4455;\n",
              "      fill: #D2E3FC;\n",
              "    }\n",
              "\n",
              "    [theme=dark] .colab-df-convert:hover {\n",
              "      background-color: #434B5C;\n",
              "      box-shadow: 0px 1px 3px 1px rgba(0, 0, 0, 0.15);\n",
              "      filter: drop-shadow(0px 1px 2px rgba(0, 0, 0, 0.3));\n",
              "      fill: #FFFFFF;\n",
              "    }\n",
              "  </style>\n",
              "\n",
              "      <script>\n",
              "        const buttonEl =\n",
              "          document.querySelector('#df-e1e20361-6538-46dc-ba16-23454c406f89 button.colab-df-convert');\n",
              "        buttonEl.style.display =\n",
              "          google.colab.kernel.accessAllowed ? 'block' : 'none';\n",
              "\n",
              "        async function convertToInteractive(key) {\n",
              "          const element = document.querySelector('#df-e1e20361-6538-46dc-ba16-23454c406f89');\n",
              "          const dataTable =\n",
              "            await google.colab.kernel.invokeFunction('convertToInteractive',\n",
              "                                                     [key], {});\n",
              "          if (!dataTable) return;\n",
              "\n",
              "          const docLinkHtml = 'Like what you see? Visit the ' +\n",
              "            '<a target=\"_blank\" href=https://colab.research.google.com/notebooks/data_table.ipynb>data table notebook</a>'\n",
              "            + ' to learn more about interactive tables.';\n",
              "          element.innerHTML = '';\n",
              "          dataTable['output_type'] = 'display_data';\n",
              "          await google.colab.output.renderOutput(dataTable, element);\n",
              "          const docLink = document.createElement('div');\n",
              "          docLink.innerHTML = docLinkHtml;\n",
              "          element.appendChild(docLink);\n",
              "        }\n",
              "      </script>\n",
              "    </div>\n",
              "  </div>\n",
              "  "
            ]
          },
          "metadata": {},
          "execution_count": 49
        }
      ]
    },
    {
      "cell_type": "code",
      "source": [
        "#Finding Missing Data\n",
        "df.isnull().sum()"
      ],
      "metadata": {
        "colab": {
          "base_uri": "https://localhost:8080/"
        },
        "id": "BchaZ8T-V1AB",
        "outputId": "1c5e152d-18ce-48d8-bfd6-be0549beba7d"
      },
      "execution_count": 4,
      "outputs": [
        {
          "output_type": "execute_result",
          "data": {
            "text/plain": [
              "Sex              0\n",
              "Age              0\n",
              "Birth Weight     0\n",
              "Birth Length     0\n",
              "Body Weight      0\n",
              "Body Length      0\n",
              "ASI Eksklusif    0\n",
              "Stunting         0\n",
              "dtype: int64"
            ]
          },
          "metadata": {},
          "execution_count": 4
        }
      ]
    },
    {
      "cell_type": "code",
      "source": [
        "#Counting Stunting Case for each case\n",
        "df['Stunting'].value_counts()"
      ],
      "metadata": {
        "colab": {
          "base_uri": "https://localhost:8080/"
        },
        "id": "rkHNfWx78TYR",
        "outputId": "22812663-3832-41df-f174-d75022dceda4"
      },
      "execution_count": 5,
      "outputs": [
        {
          "output_type": "execute_result",
          "data": {
            "text/plain": [
              "Yes    3312\n",
              "No     3188\n",
              "Name: Stunting, dtype: int64"
            ]
          },
          "metadata": {},
          "execution_count": 5
        }
      ]
    },
    {
      "cell_type": "code",
      "source": [
        "#Display Information of Dataset\n",
        "df.info()"
      ],
      "metadata": {
        "colab": {
          "base_uri": "https://localhost:8080/"
        },
        "id": "phmG5Tw4VlHd",
        "outputId": "5d0301be-bc3e-4c28-f387-027fbee86265"
      },
      "execution_count": 6,
      "outputs": [
        {
          "output_type": "stream",
          "name": "stdout",
          "text": [
            "<class 'pandas.core.frame.DataFrame'>\n",
            "RangeIndex: 6500 entries, 0 to 6499\n",
            "Data columns (total 8 columns):\n",
            " #   Column         Non-Null Count  Dtype  \n",
            "---  ------         --------------  -----  \n",
            " 0   Sex            6500 non-null   object \n",
            " 1   Age            6500 non-null   int64  \n",
            " 2   Birth Weight   6500 non-null   float64\n",
            " 3   Birth Length   6500 non-null   int64  \n",
            " 4   Body Weight    6500 non-null   float64\n",
            " 5   Body Length    6500 non-null   float64\n",
            " 6   ASI Eksklusif  6500 non-null   object \n",
            " 7   Stunting       6500 non-null   object \n",
            "dtypes: float64(3), int64(2), object(3)\n",
            "memory usage: 406.4+ KB\n"
          ]
        }
      ]
    },
    {
      "cell_type": "code",
      "source": [
        "#Checking the Dimension of dataset\n",
        "df.shape"
      ],
      "metadata": {
        "colab": {
          "base_uri": "https://localhost:8080/"
        },
        "id": "R0isNoopJ6oK",
        "outputId": "33e0024e-5211-4b80-ae5d-25ed214133a0"
      },
      "execution_count": 7,
      "outputs": [
        {
          "output_type": "execute_result",
          "data": {
            "text/plain": [
              "(6500, 8)"
            ]
          },
          "metadata": {},
          "execution_count": 7
        }
      ]
    },
    {
      "cell_type": "code",
      "source": [
        "# Make dictionary for label encoding\n",
        "sex_encoding = {'M': 1, 'F': 0}\n",
        "asi_encoding = {'No': 0, 'Yes': 1}\n",
        "stunting_encoding = {'No': 0, 'Yes': 1}\n",
        "\n",
        "# Doing label encoding using map method\n",
        "df['Sex'] = df['Sex'].map(sex_encoding)\n",
        "df['ASI Eksklusif'] = df['ASI Eksklusif'].map(asi_encoding)\n",
        "df['Stunting'] = df['Stunting'].map(stunting_encoding)\n",
        "\n",
        "df"
      ],
      "metadata": {
        "colab": {
          "base_uri": "https://localhost:8080/",
          "height": 423
        },
        "id": "uczylmLapVZg",
        "outputId": "80c5b945-d864-4887-dc85-d84f8eaf25cc"
      },
      "execution_count": 8,
      "outputs": [
        {
          "output_type": "execute_result",
          "data": {
            "text/plain": [
              "      Sex  Age  Birth Weight  Birth Length  Body Weight  Body Length  \\\n",
              "0       0   56           2.9            50         11.0         90.0   \n",
              "1       0   20           3.3            49         11.1         80.5   \n",
              "2       1    4           2.8            48          6.5         63.0   \n",
              "3       0   14           2.0            49          7.0         71.0   \n",
              "4       1   32           3.2            49         11.0         88.7   \n",
              "...   ...  ...           ...           ...          ...          ...   \n",
              "6495    1   53           2.9            49         15.0         96.0   \n",
              "6496    1    9           2.9            50          7.3         62.0   \n",
              "6497    0   20           1.8            48          7.3         73.0   \n",
              "6498    1   11           2.9            49          7.7         66.0   \n",
              "6499    0   14           2.9            49          6.5         66.0   \n",
              "\n",
              "      ASI Eksklusif  Stunting  \n",
              "0                 1         0  \n",
              "1                 0         0  \n",
              "2                 0         0  \n",
              "3                 1         0  \n",
              "4                 1         0  \n",
              "...             ...       ...  \n",
              "6495              0         1  \n",
              "6496              0         1  \n",
              "6497              1         1  \n",
              "6498              0         1  \n",
              "6499              0         1  \n",
              "\n",
              "[6500 rows x 8 columns]"
            ],
            "text/html": [
              "\n",
              "  <div id=\"df-264a8729-86ea-4b63-9918-1bb79c14138b\">\n",
              "    <div class=\"colab-df-container\">\n",
              "      <div>\n",
              "<style scoped>\n",
              "    .dataframe tbody tr th:only-of-type {\n",
              "        vertical-align: middle;\n",
              "    }\n",
              "\n",
              "    .dataframe tbody tr th {\n",
              "        vertical-align: top;\n",
              "    }\n",
              "\n",
              "    .dataframe thead th {\n",
              "        text-align: right;\n",
              "    }\n",
              "</style>\n",
              "<table border=\"1\" class=\"dataframe\">\n",
              "  <thead>\n",
              "    <tr style=\"text-align: right;\">\n",
              "      <th></th>\n",
              "      <th>Sex</th>\n",
              "      <th>Age</th>\n",
              "      <th>Birth Weight</th>\n",
              "      <th>Birth Length</th>\n",
              "      <th>Body Weight</th>\n",
              "      <th>Body Length</th>\n",
              "      <th>ASI Eksklusif</th>\n",
              "      <th>Stunting</th>\n",
              "    </tr>\n",
              "  </thead>\n",
              "  <tbody>\n",
              "    <tr>\n",
              "      <th>0</th>\n",
              "      <td>0</td>\n",
              "      <td>56</td>\n",
              "      <td>2.9</td>\n",
              "      <td>50</td>\n",
              "      <td>11.0</td>\n",
              "      <td>90.0</td>\n",
              "      <td>1</td>\n",
              "      <td>0</td>\n",
              "    </tr>\n",
              "    <tr>\n",
              "      <th>1</th>\n",
              "      <td>0</td>\n",
              "      <td>20</td>\n",
              "      <td>3.3</td>\n",
              "      <td>49</td>\n",
              "      <td>11.1</td>\n",
              "      <td>80.5</td>\n",
              "      <td>0</td>\n",
              "      <td>0</td>\n",
              "    </tr>\n",
              "    <tr>\n",
              "      <th>2</th>\n",
              "      <td>1</td>\n",
              "      <td>4</td>\n",
              "      <td>2.8</td>\n",
              "      <td>48</td>\n",
              "      <td>6.5</td>\n",
              "      <td>63.0</td>\n",
              "      <td>0</td>\n",
              "      <td>0</td>\n",
              "    </tr>\n",
              "    <tr>\n",
              "      <th>3</th>\n",
              "      <td>0</td>\n",
              "      <td>14</td>\n",
              "      <td>2.0</td>\n",
              "      <td>49</td>\n",
              "      <td>7.0</td>\n",
              "      <td>71.0</td>\n",
              "      <td>1</td>\n",
              "      <td>0</td>\n",
              "    </tr>\n",
              "    <tr>\n",
              "      <th>4</th>\n",
              "      <td>1</td>\n",
              "      <td>32</td>\n",
              "      <td>3.2</td>\n",
              "      <td>49</td>\n",
              "      <td>11.0</td>\n",
              "      <td>88.7</td>\n",
              "      <td>1</td>\n",
              "      <td>0</td>\n",
              "    </tr>\n",
              "    <tr>\n",
              "      <th>...</th>\n",
              "      <td>...</td>\n",
              "      <td>...</td>\n",
              "      <td>...</td>\n",
              "      <td>...</td>\n",
              "      <td>...</td>\n",
              "      <td>...</td>\n",
              "      <td>...</td>\n",
              "      <td>...</td>\n",
              "    </tr>\n",
              "    <tr>\n",
              "      <th>6495</th>\n",
              "      <td>1</td>\n",
              "      <td>53</td>\n",
              "      <td>2.9</td>\n",
              "      <td>49</td>\n",
              "      <td>15.0</td>\n",
              "      <td>96.0</td>\n",
              "      <td>0</td>\n",
              "      <td>1</td>\n",
              "    </tr>\n",
              "    <tr>\n",
              "      <th>6496</th>\n",
              "      <td>1</td>\n",
              "      <td>9</td>\n",
              "      <td>2.9</td>\n",
              "      <td>50</td>\n",
              "      <td>7.3</td>\n",
              "      <td>62.0</td>\n",
              "      <td>0</td>\n",
              "      <td>1</td>\n",
              "    </tr>\n",
              "    <tr>\n",
              "      <th>6497</th>\n",
              "      <td>0</td>\n",
              "      <td>20</td>\n",
              "      <td>1.8</td>\n",
              "      <td>48</td>\n",
              "      <td>7.3</td>\n",
              "      <td>73.0</td>\n",
              "      <td>1</td>\n",
              "      <td>1</td>\n",
              "    </tr>\n",
              "    <tr>\n",
              "      <th>6498</th>\n",
              "      <td>1</td>\n",
              "      <td>11</td>\n",
              "      <td>2.9</td>\n",
              "      <td>49</td>\n",
              "      <td>7.7</td>\n",
              "      <td>66.0</td>\n",
              "      <td>0</td>\n",
              "      <td>1</td>\n",
              "    </tr>\n",
              "    <tr>\n",
              "      <th>6499</th>\n",
              "      <td>0</td>\n",
              "      <td>14</td>\n",
              "      <td>2.9</td>\n",
              "      <td>49</td>\n",
              "      <td>6.5</td>\n",
              "      <td>66.0</td>\n",
              "      <td>0</td>\n",
              "      <td>1</td>\n",
              "    </tr>\n",
              "  </tbody>\n",
              "</table>\n",
              "<p>6500 rows × 8 columns</p>\n",
              "</div>\n",
              "      <button class=\"colab-df-convert\" onclick=\"convertToInteractive('df-264a8729-86ea-4b63-9918-1bb79c14138b')\"\n",
              "              title=\"Convert this dataframe to an interactive table.\"\n",
              "              style=\"display:none;\">\n",
              "        \n",
              "  <svg xmlns=\"http://www.w3.org/2000/svg\" height=\"24px\"viewBox=\"0 0 24 24\"\n",
              "       width=\"24px\">\n",
              "    <path d=\"M0 0h24v24H0V0z\" fill=\"none\"/>\n",
              "    <path d=\"M18.56 5.44l.94 2.06.94-2.06 2.06-.94-2.06-.94-.94-2.06-.94 2.06-2.06.94zm-11 1L8.5 8.5l.94-2.06 2.06-.94-2.06-.94L8.5 2.5l-.94 2.06-2.06.94zm10 10l.94 2.06.94-2.06 2.06-.94-2.06-.94-.94-2.06-.94 2.06-2.06.94z\"/><path d=\"M17.41 7.96l-1.37-1.37c-.4-.4-.92-.59-1.43-.59-.52 0-1.04.2-1.43.59L10.3 9.45l-7.72 7.72c-.78.78-.78 2.05 0 2.83L4 21.41c.39.39.9.59 1.41.59.51 0 1.02-.2 1.41-.59l7.78-7.78 2.81-2.81c.8-.78.8-2.07 0-2.86zM5.41 20L4 18.59l7.72-7.72 1.47 1.35L5.41 20z\"/>\n",
              "  </svg>\n",
              "      </button>\n",
              "      \n",
              "  <style>\n",
              "    .colab-df-container {\n",
              "      display:flex;\n",
              "      flex-wrap:wrap;\n",
              "      gap: 12px;\n",
              "    }\n",
              "\n",
              "    .colab-df-convert {\n",
              "      background-color: #E8F0FE;\n",
              "      border: none;\n",
              "      border-radius: 50%;\n",
              "      cursor: pointer;\n",
              "      display: none;\n",
              "      fill: #1967D2;\n",
              "      height: 32px;\n",
              "      padding: 0 0 0 0;\n",
              "      width: 32px;\n",
              "    }\n",
              "\n",
              "    .colab-df-convert:hover {\n",
              "      background-color: #E2EBFA;\n",
              "      box-shadow: 0px 1px 2px rgba(60, 64, 67, 0.3), 0px 1px 3px 1px rgba(60, 64, 67, 0.15);\n",
              "      fill: #174EA6;\n",
              "    }\n",
              "\n",
              "    [theme=dark] .colab-df-convert {\n",
              "      background-color: #3B4455;\n",
              "      fill: #D2E3FC;\n",
              "    }\n",
              "\n",
              "    [theme=dark] .colab-df-convert:hover {\n",
              "      background-color: #434B5C;\n",
              "      box-shadow: 0px 1px 3px 1px rgba(0, 0, 0, 0.15);\n",
              "      filter: drop-shadow(0px 1px 2px rgba(0, 0, 0, 0.3));\n",
              "      fill: #FFFFFF;\n",
              "    }\n",
              "  </style>\n",
              "\n",
              "      <script>\n",
              "        const buttonEl =\n",
              "          document.querySelector('#df-264a8729-86ea-4b63-9918-1bb79c14138b button.colab-df-convert');\n",
              "        buttonEl.style.display =\n",
              "          google.colab.kernel.accessAllowed ? 'block' : 'none';\n",
              "\n",
              "        async function convertToInteractive(key) {\n",
              "          const element = document.querySelector('#df-264a8729-86ea-4b63-9918-1bb79c14138b');\n",
              "          const dataTable =\n",
              "            await google.colab.kernel.invokeFunction('convertToInteractive',\n",
              "                                                     [key], {});\n",
              "          if (!dataTable) return;\n",
              "\n",
              "          const docLinkHtml = 'Like what you see? Visit the ' +\n",
              "            '<a target=\"_blank\" href=https://colab.research.google.com/notebooks/data_table.ipynb>data table notebook</a>'\n",
              "            + ' to learn more about interactive tables.';\n",
              "          element.innerHTML = '';\n",
              "          dataTable['output_type'] = 'display_data';\n",
              "          await google.colab.output.renderOutput(dataTable, element);\n",
              "          const docLink = document.createElement('div');\n",
              "          docLink.innerHTML = docLinkHtml;\n",
              "          element.appendChild(docLink);\n",
              "        }\n",
              "      </script>\n",
              "    </div>\n",
              "  </div>\n",
              "  "
            ]
          },
          "metadata": {},
          "execution_count": 8
        }
      ]
    },
    {
      "cell_type": "code",
      "source": [
        "# Normalize the data using MinMaxScaler\n",
        "scaler = MinMaxScaler()\n",
        "normalized_data = scaler.fit_transform(df)\n",
        "\n",
        "# Convert the normalized data back to a DataFrame\n",
        "normalized_df = pd.DataFrame(normalized_data, columns=df.columns)\n",
        "\n",
        "# Print the normalized DataFrame\n",
        "print(normalized_df)"
      ],
      "metadata": {
        "colab": {
          "base_uri": "https://localhost:8080/"
        },
        "id": "LME5qbGkXvaJ",
        "outputId": "58dd306f-3f7c-4274-96a8-910811ac65d5"
      },
      "execution_count": 9,
      "outputs": [
        {
          "output_type": "stream",
          "name": "stdout",
          "text": [
            "      Sex       Age  Birth Weight  Birth Length  Body Weight  Body Length  \\\n",
            "0     0.0  0.948276      0.500000      0.727273     0.375000     0.637931   \n",
            "1     0.0  0.327586      0.681818      0.636364     0.379630     0.474138   \n",
            "2     1.0  0.051724      0.454545      0.545455     0.166667     0.172414   \n",
            "3     0.0  0.224138      0.090909      0.636364     0.189815     0.310345   \n",
            "4     1.0  0.534483      0.636364      0.636364     0.375000     0.615517   \n",
            "...   ...       ...           ...           ...          ...          ...   \n",
            "6495  1.0  0.896552      0.500000      0.636364     0.560185     0.741379   \n",
            "6496  1.0  0.137931      0.500000      0.727273     0.203704     0.155172   \n",
            "6497  0.0  0.327586      0.000000      0.545455     0.203704     0.344828   \n",
            "6498  1.0  0.172414      0.500000      0.636364     0.222222     0.224138   \n",
            "6499  0.0  0.224138      0.500000      0.636364     0.166667     0.224138   \n",
            "\n",
            "      ASI Eksklusif  Stunting  \n",
            "0               1.0       0.0  \n",
            "1               0.0       0.0  \n",
            "2               0.0       0.0  \n",
            "3               1.0       0.0  \n",
            "4               1.0       0.0  \n",
            "...             ...       ...  \n",
            "6495            0.0       1.0  \n",
            "6496            0.0       1.0  \n",
            "6497            1.0       1.0  \n",
            "6498            0.0       1.0  \n",
            "6499            0.0       1.0  \n",
            "\n",
            "[6500 rows x 8 columns]\n"
          ]
        }
      ]
    },
    {
      "cell_type": "code",
      "source": [
        "#Data Splitting\n",
        "# Separating the Feature and Labels\n",
        "X = normalized_df.drop(columns=[\"Stunting\"])\n",
        "y = normalized_df[\"Stunting\"]\n",
        "\n",
        "# Split the dataset into training and test sets\n",
        "X_train, X_test, y_train, y_test = train_test_split(X, y, test_size=0.1, random_state=64)"
      ],
      "metadata": {
        "id": "mz9jYlhQzIAU"
      },
      "execution_count": 16,
      "outputs": []
    },
    {
      "cell_type": "markdown",
      "source": [
        "## **Model Architecture**"
      ],
      "metadata": {
        "id": "6mZQPlPywqvB"
      }
    },
    {
      "cell_type": "code",
      "source": [
        "model = tf.keras.Sequential([\n",
        "    tf.keras.layers.Dense(64, activation='relu', input_shape=(7,)),\n",
        "    tf.keras.layers.Dense(32, activation='relu'),\n",
        "    tf.keras.layers.Dense(16, activation='relu'),\n",
        "    tf.keras.layers.Dense(8, activation='relu'),\n",
        "    tf.keras.layers.Dense(1, activation='sigmoid')\n",
        "])"
      ],
      "metadata": {
        "id": "GV2iiaCxuqwU"
      },
      "execution_count": 17,
      "outputs": []
    },
    {
      "cell_type": "code",
      "source": [
        "bce = tf.keras.losses.BinaryCrossentropy(from_logits=False)\n",
        "optimizer = tf.keras.optimizers.Adam(learning_rate=1e-3)\n",
        "\n",
        "model.compile(\n",
        "    loss=bce,\n",
        "    optimizer=optimizer,\n",
        "    metrics=['accuracy']\n",
        ")"
      ],
      "metadata": {
        "id": "uoUhB-Jv0qS8"
      },
      "execution_count": 18,
      "outputs": []
    },
    {
      "cell_type": "code",
      "source": [
        "history = model.fit(X_train, y_train, epochs=100, batch_size=128, validation_data=(X_test, y_test))"
      ],
      "metadata": {
        "id": "V0eidbOPyOrJ",
        "colab": {
          "base_uri": "https://localhost:8080/"
        },
        "outputId": "3ae402f8-0aa2-4251-fcd0-e90cbce3e857"
      },
      "execution_count": 19,
      "outputs": [
        {
          "output_type": "stream",
          "name": "stdout",
          "text": [
            "Epoch 1/100\n",
            "46/46 [==============================] - 2s 7ms/step - loss: 0.6575 - accuracy: 0.6556 - val_loss: 0.6191 - val_accuracy: 0.6938\n",
            "Epoch 2/100\n",
            "46/46 [==============================] - 0s 4ms/step - loss: 0.5878 - accuracy: 0.7152 - val_loss: 0.5880 - val_accuracy: 0.6938\n",
            "Epoch 3/100\n",
            "46/46 [==============================] - 0s 4ms/step - loss: 0.5547 - accuracy: 0.7171 - val_loss: 0.5358 - val_accuracy: 0.7000\n",
            "Epoch 4/100\n",
            "46/46 [==============================] - 0s 4ms/step - loss: 0.5009 - accuracy: 0.7574 - val_loss: 0.4632 - val_accuracy: 0.8046\n",
            "Epoch 5/100\n",
            "46/46 [==============================] - 0s 4ms/step - loss: 0.4435 - accuracy: 0.8039 - val_loss: 0.3969 - val_accuracy: 0.8292\n",
            "Epoch 6/100\n",
            "46/46 [==============================] - 0s 5ms/step - loss: 0.3991 - accuracy: 0.8284 - val_loss: 0.3713 - val_accuracy: 0.8738\n",
            "Epoch 7/100\n",
            "46/46 [==============================] - 0s 7ms/step - loss: 0.3647 - accuracy: 0.8542 - val_loss: 0.3319 - val_accuracy: 0.8600\n",
            "Epoch 8/100\n",
            "46/46 [==============================] - 0s 7ms/step - loss: 0.3366 - accuracy: 0.8709 - val_loss: 0.2949 - val_accuracy: 0.8954\n",
            "Epoch 9/100\n",
            "46/46 [==============================] - 0s 6ms/step - loss: 0.3166 - accuracy: 0.8745 - val_loss: 0.2780 - val_accuracy: 0.8954\n",
            "Epoch 10/100\n",
            "46/46 [==============================] - 0s 7ms/step - loss: 0.3066 - accuracy: 0.8800 - val_loss: 0.3277 - val_accuracy: 0.8615\n",
            "Epoch 11/100\n",
            "46/46 [==============================] - 0s 6ms/step - loss: 0.2887 - accuracy: 0.8899 - val_loss: 0.2609 - val_accuracy: 0.8985\n",
            "Epoch 12/100\n",
            "46/46 [==============================] - 0s 6ms/step - loss: 0.2843 - accuracy: 0.8887 - val_loss: 0.2740 - val_accuracy: 0.8938\n",
            "Epoch 13/100\n",
            "46/46 [==============================] - 0s 7ms/step - loss: 0.2732 - accuracy: 0.9009 - val_loss: 0.2436 - val_accuracy: 0.8969\n",
            "Epoch 14/100\n",
            "46/46 [==============================] - 0s 7ms/step - loss: 0.2668 - accuracy: 0.9051 - val_loss: 0.2396 - val_accuracy: 0.8985\n",
            "Epoch 15/100\n",
            "46/46 [==============================] - 0s 6ms/step - loss: 0.2638 - accuracy: 0.9055 - val_loss: 0.2270 - val_accuracy: 0.9231\n",
            "Epoch 16/100\n",
            "46/46 [==============================] - 0s 6ms/step - loss: 0.2567 - accuracy: 0.9080 - val_loss: 0.2255 - val_accuracy: 0.9123\n",
            "Epoch 17/100\n",
            "46/46 [==============================] - 0s 6ms/step - loss: 0.2587 - accuracy: 0.9120 - val_loss: 0.2283 - val_accuracy: 0.9092\n",
            "Epoch 18/100\n",
            "46/46 [==============================] - 0s 4ms/step - loss: 0.2529 - accuracy: 0.9085 - val_loss: 0.2235 - val_accuracy: 0.9231\n",
            "Epoch 19/100\n",
            "46/46 [==============================] - 0s 4ms/step - loss: 0.2472 - accuracy: 0.9144 - val_loss: 0.2202 - val_accuracy: 0.9262\n",
            "Epoch 20/100\n",
            "46/46 [==============================] - 0s 4ms/step - loss: 0.2466 - accuracy: 0.9121 - val_loss: 0.2248 - val_accuracy: 0.9308\n",
            "Epoch 21/100\n",
            "46/46 [==============================] - 0s 4ms/step - loss: 0.2400 - accuracy: 0.9198 - val_loss: 0.2090 - val_accuracy: 0.9323\n",
            "Epoch 22/100\n",
            "46/46 [==============================] - 0s 5ms/step - loss: 0.2380 - accuracy: 0.9147 - val_loss: 0.2101 - val_accuracy: 0.9354\n",
            "Epoch 23/100\n",
            "46/46 [==============================] - 0s 4ms/step - loss: 0.2359 - accuracy: 0.9181 - val_loss: 0.2089 - val_accuracy: 0.9354\n",
            "Epoch 24/100\n",
            "46/46 [==============================] - 0s 4ms/step - loss: 0.2260 - accuracy: 0.9251 - val_loss: 0.2246 - val_accuracy: 0.9154\n",
            "Epoch 25/100\n",
            "46/46 [==============================] - 0s 4ms/step - loss: 0.2269 - accuracy: 0.9219 - val_loss: 0.2002 - val_accuracy: 0.9415\n",
            "Epoch 26/100\n",
            "46/46 [==============================] - 0s 4ms/step - loss: 0.2221 - accuracy: 0.9282 - val_loss: 0.1971 - val_accuracy: 0.9338\n",
            "Epoch 27/100\n",
            "46/46 [==============================] - 0s 5ms/step - loss: 0.2153 - accuracy: 0.9309 - val_loss: 0.2007 - val_accuracy: 0.9369\n",
            "Epoch 28/100\n",
            "46/46 [==============================] - 0s 4ms/step - loss: 0.2112 - accuracy: 0.9347 - val_loss: 0.2139 - val_accuracy: 0.9015\n",
            "Epoch 29/100\n",
            "46/46 [==============================] - 0s 5ms/step - loss: 0.2113 - accuracy: 0.9309 - val_loss: 0.2040 - val_accuracy: 0.9338\n",
            "Epoch 30/100\n",
            "46/46 [==============================] - 0s 4ms/step - loss: 0.2102 - accuracy: 0.9289 - val_loss: 0.2215 - val_accuracy: 0.9200\n",
            "Epoch 31/100\n",
            "46/46 [==============================] - 0s 5ms/step - loss: 0.2074 - accuracy: 0.9330 - val_loss: 0.1984 - val_accuracy: 0.9369\n",
            "Epoch 32/100\n",
            "46/46 [==============================] - 0s 4ms/step - loss: 0.2073 - accuracy: 0.9268 - val_loss: 0.2066 - val_accuracy: 0.9292\n",
            "Epoch 33/100\n",
            "46/46 [==============================] - 0s 4ms/step - loss: 0.1964 - accuracy: 0.9383 - val_loss: 0.1994 - val_accuracy: 0.9354\n",
            "Epoch 34/100\n",
            "46/46 [==============================] - 0s 4ms/step - loss: 0.1966 - accuracy: 0.9371 - val_loss: 0.1867 - val_accuracy: 0.9369\n",
            "Epoch 35/100\n",
            "46/46 [==============================] - 0s 4ms/step - loss: 0.1923 - accuracy: 0.9378 - val_loss: 0.1812 - val_accuracy: 0.9369\n",
            "Epoch 36/100\n",
            "46/46 [==============================] - 0s 5ms/step - loss: 0.1902 - accuracy: 0.9398 - val_loss: 0.1841 - val_accuracy: 0.9369\n",
            "Epoch 37/100\n",
            "46/46 [==============================] - 0s 4ms/step - loss: 0.1872 - accuracy: 0.9407 - val_loss: 0.1808 - val_accuracy: 0.9431\n",
            "Epoch 38/100\n",
            "46/46 [==============================] - 0s 5ms/step - loss: 0.1821 - accuracy: 0.9451 - val_loss: 0.1717 - val_accuracy: 0.9431\n",
            "Epoch 39/100\n",
            "46/46 [==============================] - 0s 4ms/step - loss: 0.1825 - accuracy: 0.9414 - val_loss: 0.1734 - val_accuracy: 0.9508\n",
            "Epoch 40/100\n",
            "46/46 [==============================] - 0s 4ms/step - loss: 0.1775 - accuracy: 0.9441 - val_loss: 0.1888 - val_accuracy: 0.9338\n",
            "Epoch 41/100\n",
            "46/46 [==============================] - 0s 5ms/step - loss: 0.1777 - accuracy: 0.9455 - val_loss: 0.1673 - val_accuracy: 0.9446\n",
            "Epoch 42/100\n",
            "46/46 [==============================] - 0s 4ms/step - loss: 0.1711 - accuracy: 0.9467 - val_loss: 0.1698 - val_accuracy: 0.9462\n",
            "Epoch 43/100\n",
            "46/46 [==============================] - 0s 4ms/step - loss: 0.1763 - accuracy: 0.9422 - val_loss: 0.1705 - val_accuracy: 0.9415\n",
            "Epoch 44/100\n",
            "46/46 [==============================] - 0s 5ms/step - loss: 0.1682 - accuracy: 0.9482 - val_loss: 0.1741 - val_accuracy: 0.9446\n",
            "Epoch 45/100\n",
            "46/46 [==============================] - 0s 5ms/step - loss: 0.1695 - accuracy: 0.9474 - val_loss: 0.1597 - val_accuracy: 0.9492\n",
            "Epoch 46/100\n",
            "46/46 [==============================] - 0s 5ms/step - loss: 0.1676 - accuracy: 0.9460 - val_loss: 0.1611 - val_accuracy: 0.9523\n",
            "Epoch 47/100\n",
            "46/46 [==============================] - 0s 4ms/step - loss: 0.1664 - accuracy: 0.9472 - val_loss: 0.1529 - val_accuracy: 0.9492\n",
            "Epoch 48/100\n",
            "46/46 [==============================] - 0s 4ms/step - loss: 0.1644 - accuracy: 0.9467 - val_loss: 0.1542 - val_accuracy: 0.9462\n",
            "Epoch 49/100\n",
            "46/46 [==============================] - 0s 4ms/step - loss: 0.1630 - accuracy: 0.9494 - val_loss: 0.1547 - val_accuracy: 0.9462\n",
            "Epoch 50/100\n",
            "46/46 [==============================] - 0s 4ms/step - loss: 0.1634 - accuracy: 0.9475 - val_loss: 0.1762 - val_accuracy: 0.9369\n",
            "Epoch 51/100\n",
            "46/46 [==============================] - 0s 4ms/step - loss: 0.1610 - accuracy: 0.9504 - val_loss: 0.1551 - val_accuracy: 0.9538\n",
            "Epoch 52/100\n",
            "46/46 [==============================] - 0s 5ms/step - loss: 0.1606 - accuracy: 0.9494 - val_loss: 0.1507 - val_accuracy: 0.9523\n",
            "Epoch 53/100\n",
            "46/46 [==============================] - 0s 4ms/step - loss: 0.1584 - accuracy: 0.9528 - val_loss: 0.1535 - val_accuracy: 0.9538\n",
            "Epoch 54/100\n",
            "46/46 [==============================] - 0s 4ms/step - loss: 0.1562 - accuracy: 0.9520 - val_loss: 0.1469 - val_accuracy: 0.9569\n",
            "Epoch 55/100\n",
            "46/46 [==============================] - 0s 4ms/step - loss: 0.1568 - accuracy: 0.9518 - val_loss: 0.1477 - val_accuracy: 0.9538\n",
            "Epoch 56/100\n",
            "46/46 [==============================] - 0s 4ms/step - loss: 0.1588 - accuracy: 0.9485 - val_loss: 0.1538 - val_accuracy: 0.9462\n",
            "Epoch 57/100\n",
            "46/46 [==============================] - 0s 4ms/step - loss: 0.1552 - accuracy: 0.9508 - val_loss: 0.1572 - val_accuracy: 0.9446\n",
            "Epoch 58/100\n",
            "46/46 [==============================] - 0s 4ms/step - loss: 0.1546 - accuracy: 0.9511 - val_loss: 0.1464 - val_accuracy: 0.9523\n",
            "Epoch 59/100\n",
            "46/46 [==============================] - 0s 4ms/step - loss: 0.1565 - accuracy: 0.9506 - val_loss: 0.1507 - val_accuracy: 0.9508\n",
            "Epoch 60/100\n",
            "46/46 [==============================] - 0s 5ms/step - loss: 0.1512 - accuracy: 0.9532 - val_loss: 0.1522 - val_accuracy: 0.9492\n",
            "Epoch 61/100\n",
            "46/46 [==============================] - 0s 4ms/step - loss: 0.1498 - accuracy: 0.9528 - val_loss: 0.1445 - val_accuracy: 0.9538\n",
            "Epoch 62/100\n",
            "46/46 [==============================] - 0s 4ms/step - loss: 0.1462 - accuracy: 0.9545 - val_loss: 0.1469 - val_accuracy: 0.9446\n",
            "Epoch 63/100\n",
            "46/46 [==============================] - 0s 4ms/step - loss: 0.1482 - accuracy: 0.9530 - val_loss: 0.1399 - val_accuracy: 0.9569\n",
            "Epoch 64/100\n",
            "46/46 [==============================] - 0s 4ms/step - loss: 0.1508 - accuracy: 0.9538 - val_loss: 0.1469 - val_accuracy: 0.9554\n",
            "Epoch 65/100\n",
            "46/46 [==============================] - 0s 5ms/step - loss: 0.1508 - accuracy: 0.9516 - val_loss: 0.1738 - val_accuracy: 0.9385\n",
            "Epoch 66/100\n",
            "46/46 [==============================] - 0s 7ms/step - loss: 0.1510 - accuracy: 0.9503 - val_loss: 0.1522 - val_accuracy: 0.9508\n",
            "Epoch 67/100\n",
            "46/46 [==============================] - 0s 6ms/step - loss: 0.1655 - accuracy: 0.9436 - val_loss: 0.1478 - val_accuracy: 0.9538\n",
            "Epoch 68/100\n",
            "46/46 [==============================] - 0s 6ms/step - loss: 0.1545 - accuracy: 0.9485 - val_loss: 0.1410 - val_accuracy: 0.9585\n",
            "Epoch 69/100\n",
            "46/46 [==============================] - 0s 6ms/step - loss: 0.1472 - accuracy: 0.9545 - val_loss: 0.1404 - val_accuracy: 0.9554\n",
            "Epoch 70/100\n",
            "46/46 [==============================] - 0s 7ms/step - loss: 0.1447 - accuracy: 0.9544 - val_loss: 0.1625 - val_accuracy: 0.9385\n",
            "Epoch 71/100\n",
            "46/46 [==============================] - 0s 7ms/step - loss: 0.1493 - accuracy: 0.9530 - val_loss: 0.1500 - val_accuracy: 0.9508\n",
            "Epoch 72/100\n",
            "46/46 [==============================] - 0s 7ms/step - loss: 0.1390 - accuracy: 0.9557 - val_loss: 0.1386 - val_accuracy: 0.9538\n",
            "Epoch 73/100\n",
            "46/46 [==============================] - 0s 6ms/step - loss: 0.1442 - accuracy: 0.9554 - val_loss: 0.1404 - val_accuracy: 0.9523\n",
            "Epoch 74/100\n",
            "46/46 [==============================] - 0s 6ms/step - loss: 0.1434 - accuracy: 0.9537 - val_loss: 0.1360 - val_accuracy: 0.9523\n",
            "Epoch 75/100\n",
            "46/46 [==============================] - 0s 7ms/step - loss: 0.1401 - accuracy: 0.9590 - val_loss: 0.1530 - val_accuracy: 0.9415\n",
            "Epoch 76/100\n",
            "46/46 [==============================] - 0s 7ms/step - loss: 0.1424 - accuracy: 0.9568 - val_loss: 0.1393 - val_accuracy: 0.9538\n",
            "Epoch 77/100\n",
            "46/46 [==============================] - 0s 6ms/step - loss: 0.1367 - accuracy: 0.9585 - val_loss: 0.1379 - val_accuracy: 0.9538\n",
            "Epoch 78/100\n",
            "46/46 [==============================] - 0s 4ms/step - loss: 0.1409 - accuracy: 0.9576 - val_loss: 0.1415 - val_accuracy: 0.9585\n",
            "Epoch 79/100\n",
            "46/46 [==============================] - 0s 4ms/step - loss: 0.1381 - accuracy: 0.9590 - val_loss: 0.1371 - val_accuracy: 0.9554\n",
            "Epoch 80/100\n",
            "46/46 [==============================] - 0s 5ms/step - loss: 0.1374 - accuracy: 0.9581 - val_loss: 0.1397 - val_accuracy: 0.9646\n",
            "Epoch 81/100\n",
            "46/46 [==============================] - 0s 4ms/step - loss: 0.1419 - accuracy: 0.9581 - val_loss: 0.1527 - val_accuracy: 0.9492\n",
            "Epoch 82/100\n",
            "46/46 [==============================] - 0s 4ms/step - loss: 0.1439 - accuracy: 0.9540 - val_loss: 0.1354 - val_accuracy: 0.9646\n",
            "Epoch 83/100\n",
            "46/46 [==============================] - 0s 4ms/step - loss: 0.1347 - accuracy: 0.9600 - val_loss: 0.1425 - val_accuracy: 0.9538\n",
            "Epoch 84/100\n",
            "46/46 [==============================] - 0s 4ms/step - loss: 0.1396 - accuracy: 0.9576 - val_loss: 0.1327 - val_accuracy: 0.9538\n",
            "Epoch 85/100\n",
            "46/46 [==============================] - 0s 5ms/step - loss: 0.1348 - accuracy: 0.9581 - val_loss: 0.1364 - val_accuracy: 0.9600\n",
            "Epoch 86/100\n",
            "46/46 [==============================] - 0s 4ms/step - loss: 0.1354 - accuracy: 0.9595 - val_loss: 0.1343 - val_accuracy: 0.9554\n",
            "Epoch 87/100\n",
            "46/46 [==============================] - 0s 5ms/step - loss: 0.1348 - accuracy: 0.9571 - val_loss: 0.1492 - val_accuracy: 0.9554\n",
            "Epoch 88/100\n",
            "46/46 [==============================] - 0s 5ms/step - loss: 0.1315 - accuracy: 0.9585 - val_loss: 0.1336 - val_accuracy: 0.9646\n",
            "Epoch 89/100\n",
            "46/46 [==============================] - 0s 4ms/step - loss: 0.1381 - accuracy: 0.9579 - val_loss: 0.1524 - val_accuracy: 0.9508\n",
            "Epoch 90/100\n",
            "46/46 [==============================] - 0s 4ms/step - loss: 0.1389 - accuracy: 0.9578 - val_loss: 0.1316 - val_accuracy: 0.9554\n",
            "Epoch 91/100\n",
            "46/46 [==============================] - 0s 4ms/step - loss: 0.1325 - accuracy: 0.9602 - val_loss: 0.1350 - val_accuracy: 0.9646\n",
            "Epoch 92/100\n",
            "46/46 [==============================] - 0s 4ms/step - loss: 0.1334 - accuracy: 0.9597 - val_loss: 0.1543 - val_accuracy: 0.9369\n",
            "Epoch 93/100\n",
            "46/46 [==============================] - 0s 4ms/step - loss: 0.1352 - accuracy: 0.9591 - val_loss: 0.1537 - val_accuracy: 0.9492\n",
            "Epoch 94/100\n",
            "46/46 [==============================] - 0s 5ms/step - loss: 0.1333 - accuracy: 0.9585 - val_loss: 0.1312 - val_accuracy: 0.9554\n",
            "Epoch 95/100\n",
            "46/46 [==============================] - 0s 4ms/step - loss: 0.1287 - accuracy: 0.9614 - val_loss: 0.1330 - val_accuracy: 0.9554\n",
            "Epoch 96/100\n",
            "46/46 [==============================] - 0s 4ms/step - loss: 0.1298 - accuracy: 0.9607 - val_loss: 0.1379 - val_accuracy: 0.9600\n",
            "Epoch 97/100\n",
            "46/46 [==============================] - 0s 4ms/step - loss: 0.1279 - accuracy: 0.9622 - val_loss: 0.1269 - val_accuracy: 0.9662\n",
            "Epoch 98/100\n",
            "46/46 [==============================] - 0s 4ms/step - loss: 0.1290 - accuracy: 0.9619 - val_loss: 0.1363 - val_accuracy: 0.9631\n",
            "Epoch 99/100\n",
            "46/46 [==============================] - 0s 4ms/step - loss: 0.1264 - accuracy: 0.9638 - val_loss: 0.1337 - val_accuracy: 0.9585\n",
            "Epoch 100/100\n",
            "46/46 [==============================] - 0s 4ms/step - loss: 0.1263 - accuracy: 0.9622 - val_loss: 0.1318 - val_accuracy: 0.9646\n"
          ]
        }
      ]
    },
    {
      "cell_type": "code",
      "source": [
        "model.summary()"
      ],
      "metadata": {
        "id": "a9drHaPCzX7y",
        "colab": {
          "base_uri": "https://localhost:8080/"
        },
        "outputId": "fde6599c-544b-45a4-c6a0-8950a13e1a44"
      },
      "execution_count": 20,
      "outputs": [
        {
          "output_type": "stream",
          "name": "stdout",
          "text": [
            "Model: \"sequential_1\"\n",
            "_________________________________________________________________\n",
            " Layer (type)                Output Shape              Param #   \n",
            "=================================================================\n",
            " dense_4 (Dense)             (None, 64)                512       \n",
            "                                                                 \n",
            " dense_5 (Dense)             (None, 32)                2080      \n",
            "                                                                 \n",
            " dense_6 (Dense)             (None, 16)                528       \n",
            "                                                                 \n",
            " dense_7 (Dense)             (None, 8)                 136       \n",
            "                                                                 \n",
            " dense_8 (Dense)             (None, 1)                 9         \n",
            "                                                                 \n",
            "=================================================================\n",
            "Total params: 3,265\n",
            "Trainable params: 3,265\n",
            "Non-trainable params: 0\n",
            "_________________________________________________________________\n"
          ]
        }
      ]
    },
    {
      "cell_type": "code",
      "source": [
        "model.predict(np.array([[0,\t56,\t2.9,\t50,\t11,\t90,\t1\t]]))"
      ],
      "metadata": {
        "id": "4sbTnrW8QpIa",
        "colab": {
          "base_uri": "https://localhost:8080/"
        },
        "outputId": "a59e866a-a8d3-4163-9a6e-2e9297532ce2"
      },
      "execution_count": 24,
      "outputs": [
        {
          "output_type": "stream",
          "name": "stdout",
          "text": [
            "1/1 [==============================] - 0s 19ms/step\n"
          ]
        },
        {
          "output_type": "execute_result",
          "data": {
            "text/plain": [
              "array([[0.]], dtype=float32)"
            ]
          },
          "metadata": {},
          "execution_count": 24
        }
      ]
    },
    {
      "cell_type": "markdown",
      "source": [
        "## **Model Evaluation**"
      ],
      "metadata": {
        "id": "ngN3IkUCDyCo"
      }
    },
    {
      "cell_type": "code",
      "source": [
        "# Make predictions on the test set\n",
        "y_pred = model.predict(X_test)\n",
        "\n",
        "# Convert continuous variable to binary labels\n",
        "threshold = 0.5\n",
        "y_pred_binary = (y_pred >= threshold).astype(int)\n",
        "\n",
        "# Create the confusion matrix\n",
        "confusion = confusion_matrix(y_pred_binary, y_test)\n",
        "\n",
        "# Create a heatmap of the confusion matrix\n",
        "sns.heatmap(confusion, annot=True, cmap=\"Blues\", fmt=\"d\")\n",
        "\n",
        "# Set the axis labels\n",
        "plt.xlabel(\"Predicted Labels\")\n",
        "plt.ylabel(\"True Labels\")\n",
        "\n",
        "# Set the title\n",
        "plt.title(\"Confusion Matrix\")\n",
        "\n",
        "# Display the plot\n",
        "plt.show()"
      ],
      "metadata": {
        "colab": {
          "base_uri": "https://localhost:8080/",
          "height": 489
        },
        "id": "ANIxQZ4NSKFx",
        "outputId": "6cebd87e-dc51-4a15-9fc3-851743482c12"
      },
      "execution_count": 22,
      "outputs": [
        {
          "output_type": "stream",
          "name": "stdout",
          "text": [
            "21/21 [==============================] - 0s 1ms/step\n"
          ]
        },
        {
          "output_type": "display_data",
          "data": {
            "text/plain": [
              "<Figure size 640x480 with 2 Axes>"
            ],
            "image/png": "[encoded data removed]"
          },
          "metadata": {}
        }
      ]
    },
    {
      "cell_type": "code",
      "source": [
        "# Retrieve a list of list results on training and test data\n",
        "# sets for each training epoch\n",
        "acc = history.history['accuracy']\n",
        "val_acc = history.history['val_accuracy']\n",
        "loss = history.history['loss']\n",
        "val_loss = history.history['val_loss']\n",
        "\n",
        "epochs = range(len(acc))  # Get number of epochs\n",
        "\n",
        "# Plot training and validation accuracy per epoch\n",
        "plt.plot(epochs, acc, 'r', label=\"Training Accuracy\")\n",
        "plt.plot(epochs, val_acc, 'b', label=\"Validation Accuracy\")\n",
        "plt.title('Training and validation accuracy')\n",
        "plt.legend()  # Add legend to the plot\n",
        "plt.show()\n",
        "print(\"\")\n",
        "\n",
        "# Plot training and validation loss per epoch\n",
        "plt.plot(epochs, loss, 'r', label=\"Training Loss\")\n",
        "plt.plot(epochs, val_loss, 'b', label=\"Validation Loss\")\n",
        "plt.title('Training and validation loss')\n",
        "plt.legend()  # Add legend to the plot\n",
        "plt.show()\n"
      ],
      "metadata": {
        "id": "mEX8XrJ6Dtso",
        "colab": {
          "base_uri": "https://localhost:8080/",
          "height": 904
        },
        "outputId": "7a79bb83-7c88-408b-8588-0717f15d4f91"
      },
      "execution_count": 23,
      "outputs": [
        {
          "output_type": "display_data",
          "data": {
            "text/plain": [
              "<Figure size 640x480 with 1 Axes>"
            ],
            "image/png": "[encoded data removed]"
          },
          "metadata": {}
        },
        {
          "output_type": "stream",
          "name": "stdout",
          "text": [
            "\n"
          ]
        },
        {
          "output_type": "display_data",
          "data": {
            "text/plain": [
              "<Figure size 640x480 with 1 Axes>"
            ],
            "image/png": "[encoded data removed]"
          },
          "metadata": {}
        }
      ]
    },
    {
      "cell_type": "markdown",
      "source": [
        "## **Save Model**"
      ],
      "metadata": {
        "id": "4W9scfz_IOMz"
      }
    },
    {
      "cell_type": "code",
      "source": [
        "# Save your model\n",
        "model.save('saved_model')"
      ],
      "metadata": {
        "id": "mL7IZruCINuE"
      },
      "execution_count": 25,
      "outputs": []
    },
    {
      "cell_type": "code",
      "source": [
        "# Save your model\n",
        "model.save('model.h5')"
      ],
      "metadata": {
        "id": "BYo0W0ogHhf7"
      },
      "execution_count": 26,
      "outputs": []
    },
    {
      "cell_type": "markdown",
      "source": [
        "## **Export the Model**"
      ],
      "metadata": {
        "id": "-KQquq5tVzSk"
      }
    },
    {
      "cell_type": "code",
      "source": [
        "# Convert the SavedModel to TFLite format with optimizations\n",
        "converter = tf.lite.TFLiteConverter.from_saved_model('saved_model')\n",
        "converter.optimizations = [tf.lite.Optimize.DEFAULT]  # Apply default optimizations\n",
        "tflite_model = converter.convert()\n",
        "\n",
        "# Save the TFLite model to a file\n",
        "with open('model.tflite', 'wb') as f:\n",
        "    f.write(tflite_model)\n"
      ],
      "metadata": {
        "id": "XoSCcHcZKAcv"
      },
      "execution_count": 27,
      "outputs": []
    },
    {
      "cell_type": "code",
      "source": [],
      "metadata": {
        "id": "PVWHIiGg9RWW"
      },
      "execution_count": 23,
      "outputs": []
    }
  ]
}